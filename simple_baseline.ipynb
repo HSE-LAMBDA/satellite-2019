{
 "cells": [
  {
   "cell_type": "code",
   "execution_count": 1,
   "metadata": {},
   "outputs": [],
   "source": [
    "from sklearn.linear_model import LinearRegression\n",
    "import numpy as np\n",
    "import pandas as pd"
   ]
  },
  {
   "cell_type": "markdown",
   "metadata": {},
   "source": [
    "# Train simple baseline (Linear Regression models)\n",
    "\n",
    "metric: [MAPE](https://en.wikipedia.org/wiki/Mean_absolute_percentage_error)"
   ]
  },
  {
   "cell_type": "code",
   "execution_count": 2,
   "metadata": {},
   "outputs": [],
   "source": [
    "# load data\n",
    "df = pd.read_csv('ephemerides.csv', index_col=0)"
   ]
  },
  {
   "cell_type": "code",
   "execution_count": 3,
   "metadata": {},
   "outputs": [
    {
     "name": "stdout",
     "output_type": "stream",
     "text": [
      "n_train: 17520\n",
      "n_val: 4380\n",
      "n_test: 9400\n"
     ]
    }
   ],
   "source": [
    "# target variables columns \n",
    "target_cols = ['x', 'y', 'z', 'Vx', 'Vy', 'Vz']\n",
    "# features columns \n",
    "feature_cols = [c for c in df.columns if c not in target_cols and c != 'time']\n",
    "# number of rows for training, validation and prediction\n",
    "n_train = df.shape[0] - np.isnan(df[target_cols[0]]).sum()\n",
    "n_val = int(0.2 * n_train)\n",
    "n_train = n_train - n_val\n",
    "n_test = df.shape[0] - n_train - n_val\n",
    "\n",
    "print(f\"n_train: {n_train}\\nn_val: {n_val}\\nn_test: {n_test}\")\n",
    "assert n_train + n_val + n_test == df.shape[0]\n",
    "\n",
    "# train, validation, test arrays\n",
    "X_train = df[feature_cols].values[:n_train]\n",
    "y_train = dict(zip(target_cols, [df[l].values[:n_train] for l in target_cols]))\n",
    "X_val = df[feature_cols].values[n_train:n_train+n_val]\n",
    "y_val = dict(zip(target_cols, [df[l].values[n_train:n_train+n_val] for l in target_cols]))\n",
    "X_test = df[feature_cols].values[n_train+n_val:]\n",
    "\n",
    "assert X_train.shape[0] == y_train[target_cols[0]].shape[0] == n_train\n",
    "assert X_val.shape[0] == y_val[target_cols[0]].shape[0] == n_val\n",
    "assert X_test.shape[0] == n_test"
   ]
  },
  {
   "cell_type": "code",
   "execution_count": 7,
   "metadata": {},
   "outputs": [
    {
     "name": "stdout",
     "output_type": "stream",
     "text": [
      "x\n",
      "MAPE train:  2.7567727600464633\n",
      "MAPE val:  9.020985138294844 \n",
      "\n",
      "y\n",
      "MAPE train:  1.9390680432773442\n",
      "MAPE val:  0.9039356458499591 \n",
      "\n",
      "z\n",
      "MAPE train:  3.0091830469552856\n",
      "MAPE val:  0.9205662275527899 \n",
      "\n",
      "Vx\n",
      "MAPE train:  1.4180215037857933\n",
      "MAPE val:  2.366280615350265 \n",
      "\n",
      "Vy\n",
      "MAPE train:  1.787123028626488\n",
      "MAPE val:  1.6511369096904502 \n",
      "\n",
      "Vz\n",
      "MAPE train:  1.9287174769356301\n",
      "MAPE val:  1.8758708530039234 \n",
      "\n",
      "------\n",
      "mean MAPE train:  2.139814309937834\n",
      "mean MAPE val:  2.7897958982903717\n"
     ]
    }
   ],
   "source": [
    "# dictionary: {variable: LR predictions}\n",
    "y_test = {}\n",
    "\n",
    "_mape_train_list = []\n",
    "_mape_val_list = []\n",
    "for k, v in y_train.items():\n",
    "    model = LinearRegression().fit(X_train, v)\n",
    "    mape_train = np.mean(np.abs((model.predict(X_train) - v) / v)) * 100\n",
    "    _mape_train_list.append(mape_train)\n",
    "    mape_val = np.mean(np.abs((model.predict(X_val) - y_val[k]) / y_val[k])) * 100\n",
    "    _mape_val_list.append(mape_val)\n",
    "    model = LinearRegression().fit(\n",
    "        np.vstack([X_train, X_val]), np.hstack([v, y_val[k]]))\n",
    "    y_test[k] = model.predict(X_test)\n",
    "    print(k)\n",
    "    print(\"MAPE train: \", mape_train)\n",
    "    print(\"MAPE val: \", mape_val, \"\\n\")\n",
    "\n",
    "print(\"------\")\n",
    "print(\"mean MAPE train: \", np.mean(_mape_train_list))\n",
    "print(\"mean MAPE val: \", np.mean(_mape_val_list))"
   ]
  },
  {
   "cell_type": "code",
   "execution_count": 5,
   "metadata": {},
   "outputs": [],
   "source": [
    "# predictions\n",
    "predictions = pd.DataFrame(y_test, index=df.index[-n_test:])\n",
    "predictions.to_csv('predictions.csv')"
   ]
  }
 ],
 "metadata": {
  "kernelspec": {
   "display_name": "Python 3",
   "language": "python",
   "name": "python3"
  },
  "language_info": {
   "codemirror_mode": {
    "name": "ipython",
    "version": 3
   },
   "file_extension": ".py",
   "mimetype": "text/x-python",
   "name": "python",
   "nbconvert_exporter": "python",
   "pygments_lexer": "ipython3",
   "version": "3.7.3"
  }
 },
 "nbformat": 4,
 "nbformat_minor": 2
}
