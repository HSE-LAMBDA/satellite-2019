{
 "cells": [
  {
   "cell_type": "code",
   "execution_count": 1,
   "metadata": {},
   "outputs": [],
   "source": [
    "import os\n",
    "import numpy as np\n",
    "import pandas as pd\n",
    "from datetime import datetime\n",
    "import time\n",
    "from tqdm import tqdm_notebook as tqdm\n",
    "from AutoRegression import AutoRegression\n",
    "import warnings\n",
    "warnings.filterwarnings(\"ignore\")\n",
    "import matplotlib.pyplot as plt\n",
    "from statsmodels.tsa.stattools import adfuller\n",
    "from statsmodels.tsa.seasonal import seasonal_decompose\n",
    "from statsmodels.tsa.arima_model import ARIMA, ARMA\n",
    "from pandas.plotting import register_matplotlib_converters\n",
    "register_matplotlib_converters()\n",
    "from ARIMA import myARIMA\n",
    "\n",
    "from sklearn.preprocessing import PolynomialFeatures"
   ]
  },
  {
   "cell_type": "code",
   "execution_count": 2,
   "metadata": {},
   "outputs": [],
   "source": [
    "def smape(satellite_predicted_values, satellite_true_values): \n",
    "    # the division, addition and subtraction are pointwise \n",
    "    return np.mean(np.abs((satellite_predicted_values - satellite_true_values) \n",
    "        / (np.abs(satellite_predicted_values) + np.abs(satellite_true_values))))\n",
    "\n",
    "\n",
    "def delete_duplicates(df, eps=10):\n",
    "    \"\"\"\n",
    "        Returns df without \"duplicates\" - objects within each sat_id,\n",
    "        which were recorded at almost same time\n",
    "    \"\"\"\n",
    "    \n",
    "    for sat_id in df['sat_id'].unique():\n",
    "        d_t = df[df['sat_id'] == sat_id].epoch.apply(lambda x: time.mktime(datetime.strptime(x, '%Y-%m-%dT%H:%M:%S.%f').timetuple())).values\n",
    "        df = df.drop(index=df[df['sat_id'] == sat_id].index[0] + np.where((np.roll(d_t, -1)[:-1] - d_t[:-1]) < eps)[0])\n",
    "    return df"
   ]
  },
  {
   "cell_type": "code",
   "execution_count": 3,
   "metadata": {},
   "outputs": [],
   "source": [
    "PATH_TO_DATA = os.path.join('data/')\n",
    "os.listdir(PATH_TO_DATA)\n",
    "\n",
    "\n",
    "full_train = pd.read_csv(PATH_TO_DATA + 'train.csv', index_col='id')\n",
    "# pred_sgp = pd.read_csv(PATH_TO_DATA + \"pred_sgp.csv\", index_col=\"id\")\n",
    "full_test = pd.read_csv(PATH_TO_DATA + 'test.csv', index_col='id')\n",
    "\n",
    "## delete duplicates from train and test\n",
    "full_train = delete_duplicates(full_train)\n",
    "full_test_wout_dup = delete_duplicates(full_test.copy())"
   ]
  },
  {
   "cell_type": "code",
   "execution_count": 19,
   "metadata": {},
   "outputs": [
    {
     "data": {
      "application/vnd.jupyter.widget-view+json": {
       "model_id": "dd1a2dfd9d744c728b686c1b0e08c7cd",
       "version_major": 2,
       "version_minor": 0
      },
      "text/plain": [
       "HBox(children=(IntProgress(value=0, max=600), HTML(value='')))"
      ]
     },
     "metadata": {},
     "output_type": "display_data"
    },
    {
     "name": "stdout",
     "output_type": "stream",
     "text": [
      "\n",
      "x     0\n",
      "y     0\n",
      "z     0\n",
      "Vx    0\n",
      "Vy    0\n",
      "Vz    0\n",
      "dtype: int64\n"
     ]
    }
   ],
   "source": [
    "from catboost import CatBoostRegressor\n",
    "\n",
    "# predict for test dataset without duplicates:\n",
    "target_columns = ['x', 'y', 'z', 'Vx', 'Vy', 'Vz']\n",
    "for col in target_columns:\n",
    "    full_test_wout_dup[col] = 0.0\n",
    "\n",
    "for sat_id in tqdm(full_test_wout_dup.sat_id.unique()):\n",
    "    tr = full_train[full_train.sat_id == sat_id]\n",
    "    te = full_test_wout_dup[full_test.sat_id == sat_id]\n",
    "    test_satid_mask = full_test_wout_dup.sat_id == sat_id\n",
    "    for col in target_columns:\n",
    "        model = CatBoostRegressor(iterations=4,\n",
    "                      learning_rate=0.1,\n",
    "                      depth=2, verbose=False)\n",
    "        model.fit(tr[col + '_sim'].values, tr[col].values)\n",
    "        full_test_wout_dup.loc[full_test_wout_dup[test_satid_mask].index, col] = model.predict(te[col + '_sim'].values)\n",
    "\n",
    "\n",
    "## after this we need to predict for deleted objects (duplicates) from test,\n",
    " ## so we decided to fill predicts with values of nearest objects in time domain\n",
    "final_df = pd.concat([full_test, full_test_wout_dup[target_columns]], axis=1)\n",
    "final_df.fillna(method='ffill', inplace=True)\n",
    "\n",
    "## saving predictions\n",
    "final_df[target_columns].to_csv('testing.csv', index_label='id')\n",
    "## check to prevent submit errors\n",
    "print(final_df[target_columns].isna().sum())"
   ]
  },
  {
   "cell_type": "code",
   "execution_count": 20,
   "metadata": {},
   "outputs": [],
   "source": [
    "test_ans = pd.read_csv(PATH_TO_DATA + 'ans.csv')\n",
    "pred = pd.read_csv('testing.csv')"
   ]
  },
  {
   "cell_type": "code",
   "execution_count": 21,
   "metadata": {},
   "outputs": [
    {
     "data": {
      "text/plain": [
       "x     0.656801\n",
       "y     0.658765\n",
       "z     0.659067\n",
       "Vx    0.751258\n",
       "Vy    0.752290\n",
       "Vz    0.752018\n",
       "dtype: float64"
      ]
     },
     "execution_count": 21,
     "metadata": {},
     "output_type": "execute_result"
    }
   ],
   "source": [
    "smape(test_ans[target_columns], pred[target_columns])"
   ]
  },
  {
   "cell_type": "code",
   "execution_count": 22,
   "metadata": {},
   "outputs": [
    {
     "data": {
      "text/plain": [
       "29.496663635551577"
      ]
     },
     "execution_count": 22,
     "metadata": {},
     "output_type": "execute_result"
    }
   ],
   "source": [
    "100 * (1 - np.mean(smape(test_ans[target_columns], pred[target_columns])))"
   ]
  },
  {
   "cell_type": "code",
   "execution_count": null,
   "metadata": {},
   "outputs": [],
   "source": []
  }
 ],
 "metadata": {
  "kernelspec": {
   "display_name": "Python 3",
   "language": "python",
   "name": "python3"
  },
  "language_info": {
   "codemirror_mode": {
    "name": "ipython",
    "version": 3
   },
   "file_extension": ".py",
   "mimetype": "text/x-python",
   "name": "python",
   "nbconvert_exporter": "python",
   "pygments_lexer": "ipython3",
   "version": "3.6.9"
  }
 },
 "nbformat": 4,
 "nbformat_minor": 2
}
