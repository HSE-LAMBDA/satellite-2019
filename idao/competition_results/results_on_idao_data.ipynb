{
 "cells": [
  {
   "cell_type": "markdown",
   "metadata": {},
   "source": [
    "# Dataset: IDAO (full)"
   ]
  },
  {
   "cell_type": "code",
   "execution_count": 1,
   "metadata": {},
   "outputs": [],
   "source": [
    "import pandas as pd\n",
    "import numpy as np\n",
    "import matplotlib.pyplot as plt\n",
    "%matplotlib inline"
   ]
  },
  {
   "cell_type": "markdown",
   "metadata": {},
   "source": [
    "# Data"
   ]
  },
  {
   "cell_type": "code",
   "execution_count": 2,
   "metadata": {},
   "outputs": [],
   "source": [
    "df_train = pd.read_csv(\"data/train.csv\", index_col=\"id\")\n",
    "df_test = pd.read_csv(\"data/test.csv\", index_col=\"id\")\n",
    "df_train_fixed = pd.read_csv(\"data/train_fixed_period.csv\", index_col=\"id\")\n",
    "df_test_fixed = pd.read_csv(\"data/test_fixed_period.csv\", index_col=\"id\")\n",
    "df_test_ans = pd.read_csv(\"data/ans.csv\", index_col=\"id\")\n",
    "df_test_ans['sat_id'] = df_test['sat_id']\n",
    "\n",
    "n_sat = len(pd.unique(df_train[\"sat_id\"]))"
   ]
  },
  {
   "cell_type": "markdown",
   "metadata": {},
   "source": [
    "# Updated SGP4 prediction\n",
    "\n",
    "Updated SGP4-model predictions where the last known true position point is used as the reference point."
   ]
  },
  {
   "cell_type": "code",
   "execution_count": 3,
   "metadata": {},
   "outputs": [
    {
     "name": "stdout",
     "output_type": "stream",
     "text": [
      "gzip was not found on your system! You should solve this issue for astroquery.eso to be at its best!\n",
      "On POSIX system: make sure gzip is installed and in your path!On Windows: same for 7-zip (http://www.7-zip.org)!\n"
     ]
    }
   ],
   "source": [
    "from utils import sgp4_ephemeris"
   ]
  },
  {
   "cell_type": "code",
   "execution_count": 4,
   "metadata": {
    "scrolled": true
   },
   "outputs": [
    {
     "data": {
      "text/html": [
       "<div>\n",
       "<style scoped>\n",
       "    .dataframe tbody tr th:only-of-type {\n",
       "        vertical-align: middle;\n",
       "    }\n",
       "\n",
       "    .dataframe tbody tr th {\n",
       "        vertical-align: top;\n",
       "    }\n",
       "\n",
       "    .dataframe thead th {\n",
       "        text-align: right;\n",
       "    }\n",
       "</style>\n",
       "<table border=\"1\" class=\"dataframe\">\n",
       "  <thead>\n",
       "    <tr style=\"text-align: right;\">\n",
       "      <th></th>\n",
       "      <th>sat_id</th>\n",
       "      <th>epoch</th>\n",
       "      <th>x_sim</th>\n",
       "      <th>y_sim</th>\n",
       "      <th>z_sim</th>\n",
       "      <th>Vx_sim</th>\n",
       "      <th>Vy_sim</th>\n",
       "      <th>Vz_sim</th>\n",
       "    </tr>\n",
       "    <tr>\n",
       "      <th>id</th>\n",
       "      <th></th>\n",
       "      <th></th>\n",
       "      <th></th>\n",
       "      <th></th>\n",
       "      <th></th>\n",
       "      <th></th>\n",
       "      <th></th>\n",
       "      <th></th>\n",
       "    </tr>\n",
       "  </thead>\n",
       "  <tbody>\n",
       "    <tr>\n",
       "      <th>215</th>\n",
       "      <td>0</td>\n",
       "      <td>2014-02-01T00:05:07.344</td>\n",
       "      <td>-33030.685465</td>\n",
       "      <td>-26390.098519</td>\n",
       "      <td>22652.543225</td>\n",
       "      <td>-1.799607</td>\n",
       "      <td>2.229662</td>\n",
       "      <td>-2.069609</td>\n",
       "    </tr>\n",
       "    <tr>\n",
       "      <th>216</th>\n",
       "      <td>0</td>\n",
       "      <td>2014-02-01T03:32:46.448</td>\n",
       "      <td>-42237.996877</td>\n",
       "      <td>6578.952708</td>\n",
       "      <td>-7358.428702</td>\n",
       "      <td>0.524301</td>\n",
       "      <td>2.786823</td>\n",
       "      <td>-2.492041</td>\n",
       "    </tr>\n",
       "    <tr>\n",
       "      <th>217</th>\n",
       "      <td>0</td>\n",
       "      <td>2014-02-01T07:00:25.552</td>\n",
       "      <td>-23404.847446</td>\n",
       "      <td>36018.670190</td>\n",
       "      <td>-33224.724160</td>\n",
       "      <td>2.176022</td>\n",
       "      <td>1.828754</td>\n",
       "      <td>-1.572678</td>\n",
       "    </tr>\n",
       "    <tr>\n",
       "      <th>218</th>\n",
       "      <td>0</td>\n",
       "      <td>2014-02-01T10:28:04.656</td>\n",
       "      <td>5931.140257</td>\n",
       "      <td>52581.720176</td>\n",
       "      <td>-47129.784835</td>\n",
       "      <td>2.406201</td>\n",
       "      <td>0.897595</td>\n",
       "      <td>-0.726228</td>\n",
       "    </tr>\n",
       "    <tr>\n",
       "      <th>219</th>\n",
       "      <td>0</td>\n",
       "      <td>2014-02-01T13:55:43.760</td>\n",
       "      <td>34843.570271</td>\n",
       "      <td>59866.537701</td>\n",
       "      <td>-52691.797835</td>\n",
       "      <td>2.210414</td>\n",
       "      <td>0.318932</td>\n",
       "      <td>-0.211893</td>\n",
       "    </tr>\n",
       "  </tbody>\n",
       "</table>\n",
       "</div>"
      ],
      "text/plain": [
       "     sat_id                    epoch         x_sim         y_sim  \\\n",
       "id                                                                 \n",
       "215       0  2014-02-01T00:05:07.344 -33030.685465 -26390.098519   \n",
       "216       0  2014-02-01T03:32:46.448 -42237.996877   6578.952708   \n",
       "217       0  2014-02-01T07:00:25.552 -23404.847446  36018.670190   \n",
       "218       0  2014-02-01T10:28:04.656   5931.140257  52581.720176   \n",
       "219       0  2014-02-01T13:55:43.760  34843.570271  59866.537701   \n",
       "\n",
       "            z_sim    Vx_sim    Vy_sim    Vz_sim  \n",
       "id                                               \n",
       "215  22652.543225 -1.799607  2.229662 -2.069609  \n",
       "216  -7358.428702  0.524301  2.786823 -2.492041  \n",
       "217 -33224.724160  2.176022  1.828754 -1.572678  \n",
       "218 -47129.784835  2.406201  0.897595 -0.726228  \n",
       "219 -52691.797835  2.210414  0.318932 -0.211893  "
      ]
     },
     "execution_count": 4,
     "metadata": {},
     "output_type": "execute_result"
    }
   ],
   "source": [
    "df_test_upd = pd.DataFrame().reindex_like(df_test)\n",
    "df_test_upd[[\"sat_id\", \"epoch\"]] = df_test[[\"sat_id\", \"epoch\"]]\n",
    "\n",
    "for sat_id in pd.unique(df_train[\"sat_id\"]):\n",
    "    ref_coords = df_train[df_train['sat_id'] == sat_id].iloc[-1]\n",
    "    prediction_dates_list = df_test_upd[df_test_upd['sat_id'] == sat_id]['epoch']\n",
    "    sgp4_upd = sgp4_ephemeris(ref_coords, prediction_dates_list)\n",
    "    sgp4_upd.set_index(df_test_upd[df_test_upd['sat_id'] == sat_id].index, inplace=True)\n",
    "    df_test_upd.loc[df_test_upd['sat_id'] == sat_id, [\"x_sim\", \"y_sim\", \"z_sim\", \"Vx_sim\", \"Vy_sim\", \"Vz_sim\"]] = sgp4_upd.drop(columns=[\"epoch\"]).values\n",
    "\n",
    "df_test_upd.head()"
   ]
  },
  {
   "cell_type": "code",
   "execution_count": 5,
   "metadata": {},
   "outputs": [],
   "source": [
    "# df_test_upd.to_csv('data/test_updated_sgp4.csv')"
   ]
  },
  {
   "cell_type": "markdown",
   "metadata": {},
   "source": [
    "# LR"
   ]
  },
  {
   "cell_type": "code",
   "execution_count": 6,
   "metadata": {},
   "outputs": [],
   "source": [
    "from sklearn.linear_model import LinearRegression, Ridge\n",
    "from sklearn.preprocessing import PolynomialFeatures\n",
    "from tqdm import tqdm"
   ]
  },
  {
   "cell_type": "code",
   "execution_count": 7,
   "metadata": {},
   "outputs": [],
   "source": [
    "# features columns \n",
    "feature_cols = [\"x_sim\", \"y_sim\", \"z_sim\", \"Vx_sim\", \"Vy_sim\", \"Vz_sim\"]\n",
    "\n",
    "# target variables columns \n",
    "target_cols = [\"x\", \"y\", \"z\", \"Vx\", \"Vy\", \"Vz\"]"
   ]
  },
  {
   "cell_type": "markdown",
   "metadata": {},
   "source": [
    "### test dataset – SGP4 predictions"
   ]
  },
  {
   "cell_type": "code",
   "execution_count": 8,
   "metadata": {},
   "outputs": [
    {
     "name": "stderr",
     "output_type": "stream",
     "text": [
      "100%|████████████████████████████████████████████████████████████████████████████████| 600/600 [01:13<00:00,  8.21it/s]\n"
     ]
    }
   ],
   "source": [
    "# Linear (Polynomial) Regression models\n",
    "poly = PolynomialFeatures(2)\n",
    "\n",
    "pred_lr = pd.DataFrame(columns=target_cols, index=df_test.index)\n",
    "pred_lr[\"sat_id\"] = df_test[\"sat_id\"]\n",
    "\n",
    "for sat_id in tqdm(range(n_sat)):\n",
    "    \n",
    "    train_idxs = df_train[\"sat_id\"] == sat_id\n",
    "    test_idxs = df_test[\"sat_id\"] == sat_id\n",
    "    X_train = df_train.loc[train_idxs, feature_cols]\n",
    "    y_train = df_train.loc[train_idxs, target_cols]\n",
    "    X_test = df_test.loc[test_idxs, feature_cols]\n",
    "    \n",
    "    model = LinearRegression(normalize=True).fit(X_train.values, y_train.values) \n",
    "    pred_lr.loc[test_idxs, target_cols] = model.predict(X_test.values)"
   ]
  },
  {
   "cell_type": "markdown",
   "metadata": {},
   "source": [
    "### test dataset – updated SGP4 predictions"
   ]
  },
  {
   "cell_type": "code",
   "execution_count": 9,
   "metadata": {},
   "outputs": [
    {
     "name": "stderr",
     "output_type": "stream",
     "text": [
      "100%|████████████████████████████████████████████████████████████████████████████████| 600/600 [01:11<00:00,  8.44it/s]\n"
     ]
    }
   ],
   "source": [
    "# Linear (Polynomial) Regression models\n",
    "poly = PolynomialFeatures(2)\n",
    "\n",
    "pred_lr_upd = pd.DataFrame(columns=target_cols, index=df_test.index)\n",
    "pred_lr_upd[\"sat_id\"] = df_test[\"sat_id\"]\n",
    "\n",
    "for sat_id in tqdm(range(n_sat)):\n",
    "    \n",
    "    train_idxs = df_train[\"sat_id\"] == sat_id\n",
    "    test_idxs = df_test[\"sat_id\"] == sat_id\n",
    "    X_train = df_train.loc[train_idxs, feature_cols]\n",
    "    y_train = df_train.loc[train_idxs, target_cols]\n",
    "    X_test = df_test_upd.loc[test_idxs, feature_cols]\n",
    "    \n",
    "    model = LinearRegression(normalize=True).fit(X_train.values, y_train.values) \n",
    "    pred_lr_upd.loc[test_idxs, target_cols] = model.predict(X_test.values)"
   ]
  },
  {
   "cell_type": "markdown",
   "metadata": {},
   "source": [
    "### Fixed periods LR"
   ]
  },
  {
   "cell_type": "code",
   "execution_count": 10,
   "metadata": {},
   "outputs": [
    {
     "name": "stderr",
     "output_type": "stream",
     "text": [
      "100%|████████████████████████████████████████████████████████████████████████████████| 600/600 [01:12<00:00,  8.32it/s]\n"
     ]
    }
   ],
   "source": [
    "# Linear (Polynomial) Regression models\n",
    "poly = PolynomialFeatures(2)\n",
    "\n",
    "pred_lr_fixed = pd.DataFrame(columns=target_cols, index=df_test.index)\n",
    "pred_lr_fixed[\"sat_id\"] = df_test_fixed[\"sat_id\"]\n",
    "\n",
    "for sat_id in tqdm(range(n_sat)):\n",
    "    \n",
    "    train_idxs = df_train_fixed[\"sat_id\"] == sat_id\n",
    "    test_idxs = df_test_fixed[\"sat_id\"] == sat_id\n",
    "    X_train = df_train_fixed.loc[train_idxs, feature_cols]\n",
    "    y_train = df_train_fixed.loc[train_idxs, target_cols]\n",
    "    X_test = df_test_fixed.loc[test_idxs, feature_cols]\n",
    "    \n",
    "    model = LinearRegression(normalize=True).fit(X_train.values, y_train.values) \n",
    "    pred_lr_fixed.loc[test_idxs, target_cols] = model.predict(X_test.values)"
   ]
  },
  {
   "cell_type": "markdown",
   "metadata": {},
   "source": [
    "# IDAO\n",
    "\n",
    "IDAO submissions (SGP4 and SGP4-updated)"
   ]
  },
  {
   "cell_type": "code",
   "execution_count": 11,
   "metadata": {},
   "outputs": [],
   "source": [
    "# submissions directory\n",
    "sub_dir = 'submissions/'\n",
    "participants = [\n",
    "    'data_o_plomo',\n",
    "    'david_sergey',\n",
    "    'alsetboost',\n",
    "    'veni_vidi_vici',\n",
    "]"
   ]
  },
  {
   "cell_type": "code",
   "execution_count": 12,
   "metadata": {},
   "outputs": [
    {
     "name": "stdout",
     "output_type": "stream",
     "text": [
      "data_o_plomo\n",
      "david_sergey\n",
      "alsetboost\n",
      "veni_vidi_vici\n"
     ]
    }
   ],
   "source": [
    "pred_idao = {}\n",
    "pred_idao_upd = {}\n",
    "pred_idao_fixed = {}\n",
    "for p in participants:\n",
    "    print(p)\n",
    "    pred_idao[p] = pd.read_csv(sub_dir + 'sub_' + p + '.csv', index_col='id')\n",
    "    pred_idao[p]['sat_id'] = pred_lr['sat_id']\n",
    "    pred_idao_upd[p] = pd.read_csv(sub_dir + 'sub_' + p + '_updated_sgp4.csv', index_col='id')\n",
    "    pred_idao_upd[p]['sat_id'] = pred_lr['sat_id']\n",
    "    pred_idao_fixed[p] = pd.read_csv(sub_dir + 'sub_' + p + '_fixed_period.csv', index_col='id')\n",
    "    pred_idao_fixed[p]['sat_id'] = pred_lr['sat_id']"
   ]
  },
  {
   "cell_type": "markdown",
   "metadata": {},
   "source": [
    "# SGP4-predictions"
   ]
  },
  {
   "cell_type": "code",
   "execution_count": 13,
   "metadata": {},
   "outputs": [],
   "source": [
    "df_pred_sgp4 = df_test.rename(columns=dict(zip(feature_cols, target_cols)))\n",
    "df_pred_sgp4_upd = df_test_upd.rename(columns=dict(zip(feature_cols, target_cols)))\n",
    "df_pred_fixed = df_test_fixed.rename(columns=dict(zip(feature_cols, target_cols)))"
   ]
  },
  {
   "cell_type": "markdown",
   "metadata": {},
   "source": [
    "# Metrics"
   ]
  },
  {
   "cell_type": "code",
   "execution_count": 14,
   "metadata": {},
   "outputs": [],
   "source": [
    "from metrics import smape_idao, idao_score, smape_new_vector_norm, mahalanobis_distance"
   ]
  },
  {
   "cell_type": "code",
   "execution_count": 15,
   "metadata": {},
   "outputs": [],
   "source": [
    "def print_metrics(model_name, pred):\n",
    "    print(f\"\\n{model_name}\\n\")\n",
    "    print(f\"IDAO score:  {idao_score(pred[target_cols], df_test_ans[target_cols])}\")    \n",
    "    print(f\"SMAPE IDAO:  {smape_idao(pred[target_cols], df_test_ans[target_cols])}\")    \n",
    "    print(f\"SMAPE new:   {smape_new_vector_norm(pred, df_test_ans)}\")    \n",
    "#     print(f\"Mahalanobis: {mahalanobis_distance(pred, df_test_ans)}\")"
   ]
  },
  {
   "cell_type": "markdown",
   "metadata": {},
   "source": [
    "### SGP4"
   ]
  },
  {
   "cell_type": "code",
   "execution_count": 16,
   "metadata": {},
   "outputs": [
    {
     "name": "stdout",
     "output_type": "stream",
     "text": [
      "TOTAL SCORE\n",
      "\n",
      "SGP4\n",
      "\n",
      "IDAO score:  85.35333249014583\n",
      "SMAPE IDAO:  0.14646667509854172\n",
      "SMAPE new:   0.22465428137020632\n",
      "\n",
      "LR\n",
      "\n",
      "IDAO score:  91.81678353872569\n",
      "SMAPE IDAO:  0.08183216461274313\n",
      "SMAPE new:   0.12727719610050833\n",
      "\n",
      "data_o_plomo\n",
      "\n",
      "IDAO score:  97.21670571788155\n",
      "SMAPE IDAO:  0.02783294282118438\n",
      "SMAPE new:   0.056036577434143274\n",
      "\n",
      "david_sergey\n",
      "\n",
      "IDAO score:  97.84329460084184\n",
      "SMAPE IDAO:  0.021567053991581563\n",
      "SMAPE new:   0.03087868117511732\n",
      "\n",
      "alsetboost\n",
      "\n",
      "IDAO score:  96.92031297743414\n",
      "SMAPE IDAO:  0.030796870225658628\n",
      "SMAPE new:   0.052050588061025874\n",
      "\n",
      "veni_vidi_vici\n",
      "\n",
      "IDAO score:  97.00698941270917\n",
      "SMAPE IDAO:  0.029930105872908275\n",
      "SMAPE new:   0.05707327384195287\n"
     ]
    }
   ],
   "source": [
    "print(\"TOTAL SCORE\")\n",
    "print_metrics(\"SGP4\", df_pred_sgp4)\n",
    "print_metrics(\"LR\", pred_lr)\n",
    "for part, pred in pred_idao.items():\n",
    "    print_metrics(part, pred)"
   ]
  },
  {
   "cell_type": "markdown",
   "metadata": {},
   "source": [
    "### Updated SGP4"
   ]
  },
  {
   "cell_type": "code",
   "execution_count": 17,
   "metadata": {},
   "outputs": [
    {
     "name": "stdout",
     "output_type": "stream",
     "text": [
      "TOTAL SCORE\n",
      "\n",
      "Updated SGP4\n",
      "\n",
      "IDAO score:  94.57101473641376\n",
      "SMAPE IDAO:  0.054289852635862376\n",
      "SMAPE new:   0.06542546046528024\n",
      "\n",
      "LR (Updated SGP4)\n",
      "\n",
      "IDAO score:  80.3290079110635\n",
      "SMAPE IDAO:  0.19670992088936498\n",
      "SMAPE new:   0.3592626653961014\n",
      "\n",
      "data_o_plomo (Updated SGP4)\n",
      "\n",
      "IDAO score:  97.21670571788155\n",
      "SMAPE IDAO:  0.02783294282118438\n",
      "SMAPE new:   0.056036577434143274\n",
      "\n",
      "david_sergey (Updated SGP4)\n",
      "\n",
      "IDAO score:  97.84329458679521\n",
      "SMAPE IDAO:  0.02156705413204788\n",
      "SMAPE new:   0.030878681275868913\n",
      "\n",
      "alsetboost (Updated SGP4)\n",
      "\n",
      "IDAO score:  96.92031297743414\n",
      "SMAPE IDAO:  0.03079687022565863\n",
      "SMAPE new:   0.052050588061025874\n",
      "\n",
      "veni_vidi_vici (Updated SGP4)\n",
      "\n",
      "IDAO score:  89.68988245881931\n",
      "SMAPE IDAO:  0.10310117541180686\n",
      "SMAPE new:   0.140020130441392\n"
     ]
    }
   ],
   "source": [
    "print(\"TOTAL SCORE\")\n",
    "print_metrics(\"Updated SGP4\", df_pred_sgp4_upd)\n",
    "print_metrics(\"LR (Updated SGP4)\", pred_lr_upd)\n",
    "for part, pred in pred_idao_upd.items():\n",
    "    print_metrics(part + \" (Updated SGP4)\", pred)"
   ]
  },
  {
   "cell_type": "markdown",
   "metadata": {},
   "source": [
    "### Fixed periods"
   ]
  },
  {
   "cell_type": "code",
   "execution_count": 18,
   "metadata": {},
   "outputs": [
    {
     "name": "stdout",
     "output_type": "stream",
     "text": [
      "TOTAL SCORE\n",
      "\n",
      "Fixed period\n",
      "\n",
      "IDAO score:  89.72641571606664\n",
      "SMAPE IDAO:  0.10273584283933358\n",
      "SMAPE new:   0.1361869931907276\n",
      "\n",
      "LR (Fixed period)\n",
      "\n",
      "IDAO score:  93.55510110973732\n",
      "SMAPE IDAO:  0.06444898890262675\n",
      "SMAPE new:   0.08471389182819992\n",
      "\n",
      "data_o_plomo (fixed period)\n",
      "\n",
      "IDAO score:  97.21670571855266\n",
      "SMAPE IDAO:  0.027832942814473297\n",
      "SMAPE new:   0.05603657745308817\n",
      "\n",
      "david_sergey (fixed period)\n",
      "\n",
      "IDAO score:  97.8432932378042\n",
      "SMAPE IDAO:  0.02156706762195796\n",
      "SMAPE new:   0.030878711273738226\n",
      "\n",
      "alsetboost (fixed period)\n",
      "\n",
      "IDAO score:  96.92031297743414\n",
      "SMAPE IDAO:  0.03079687022565862\n",
      "SMAPE new:   0.052050588061025874\n",
      "\n",
      "veni_vidi_vici (fixed period)\n",
      "\n",
      "IDAO score:  97.13407016473609\n",
      "SMAPE IDAO:  0.02865929835263916\n",
      "SMAPE new:   0.05211427293161519\n"
     ]
    }
   ],
   "source": [
    "print(\"TOTAL SCORE\")\n",
    "print_metrics(\"Fixed period\", df_pred_fixed)\n",
    "print_metrics(\"LR (Fixed period)\", pred_lr_fixed)\n",
    "for part, pred in pred_idao_fixed.items():\n",
    "    print_metrics(part + \" (fixed period)\", pred)"
   ]
  },
  {
   "cell_type": "code",
   "execution_count": null,
   "metadata": {},
   "outputs": [],
   "source": []
  }
 ],
 "metadata": {
  "kernelspec": {
   "display_name": "Python 3",
   "language": "python",
   "name": "python3"
  },
  "language_info": {
   "codemirror_mode": {
    "name": "ipython",
    "version": 3
   },
   "file_extension": ".py",
   "mimetype": "text/x-python",
   "name": "python",
   "nbconvert_exporter": "python",
   "pygments_lexer": "ipython3",
   "version": "3.7.5"
  }
 },
 "nbformat": 4,
 "nbformat_minor": 2
}
