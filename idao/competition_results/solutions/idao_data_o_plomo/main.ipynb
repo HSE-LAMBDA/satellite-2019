{
 "cells": [
  {
   "cell_type": "code",
   "execution_count": 1,
   "metadata": {},
   "outputs": [],
   "source": [
    "PATH_TRAIN = \"../../data/train_LPC_RP.csv\" \n",
    "PATH_TEST = \"../../data/test_LPC_RP_updated_sgp4.csv\"\n",
    "PATH_SAVE = \"../../data/sub_LPC_RP_data_o_plomo_updated_sgp4.csv\""
   ]
  },
  {
   "cell_type": "markdown",
   "metadata": {},
   "source": [
    "# Solution"
   ]
  },
  {
   "cell_type": "code",
   "execution_count": 2,
   "metadata": {},
   "outputs": [],
   "source": [
    "%matplotlib inline"
   ]
  },
  {
   "cell_type": "markdown",
   "metadata": {},
   "source": [
    "## Preparation"
   ]
  },
  {
   "cell_type": "code",
   "execution_count": 3,
   "metadata": {},
   "outputs": [],
   "source": [
    "import pandas as pd\n",
    "\n",
    "io_params = {\n",
    "    'parse_dates': ['epoch']\n",
    "}\n",
    "\n",
    "train = pd.read_csv(PATH_TRAIN, **io_params)"
   ]
  },
  {
   "cell_type": "markdown",
   "metadata": {},
   "source": [
    "Remove the duplicates."
   ]
  },
  {
   "cell_type": "code",
   "execution_count": 4,
   "metadata": {},
   "outputs": [
    {
     "name": "stderr",
     "output_type": "stream",
     "text": [
      "100%|██████████| 225/225 [00:01<00:00, 136.82it/s]\n"
     ]
    }
   ],
   "source": [
    "import datetime as dt\n",
    "import tqdm\n",
    "\n",
    "dtypes = train.dtypes.to_dict()\n",
    "\n",
    "cols_to_shift = train.columns.difference(['x_sim', 'y_sim', 'z_sim', 'Vx_sim', 'Vy_sim', 'Vz_sim'])\n",
    "\n",
    "train_sats = []\n",
    "\n",
    "for sat_id in tqdm.tqdm(train['sat_id'].unique(), position=0):\n",
    "    \n",
    "    g = train.query('sat_id == @sat_id').copy()\n",
    "    dups = g[g['epoch'].diff() < dt.timedelta(seconds=60)].index\n",
    "    \n",
    "    for i in reversed(dups):\n",
    "        g.loc[i:, cols_to_shift] = g.loc[i:, cols_to_shift].shift(-1)\n",
    "        \n",
    "    g = g.drop(g[g['x'].isnull()].index)\n",
    "    g['percent'] = pd.np.arange(1, len(g) + 1) / len(g)\n",
    "        \n",
    "    train_sats.append(g)\n",
    "    \n",
    "train = pd.concat(train_sats).astype(dtypes)"
   ]
  },
  {
   "cell_type": "markdown",
   "metadata": {},
   "source": [
    "Merge train and test."
   ]
  },
  {
   "cell_type": "code",
   "execution_count": 5,
   "metadata": {},
   "outputs": [],
   "source": [
    "test = pd.read_csv(PATH_TEST, **io_params)\n",
    "data = pd.concat((train, test), sort=False)\n",
    "data['is_train'] = data['x'].notnull()\n",
    "data = data.sort_values(['sat_id', 'epoch'])\n",
    "data['is_track_1'] = data['sat_id'].isin(data.query('not is_train')['sat_id'].unique())"
   ]
  },
  {
   "cell_type": "markdown",
   "metadata": {},
   "source": [
    "Implement SMAPE."
   ]
  },
  {
   "cell_type": "code",
   "execution_count": 6,
   "metadata": {},
   "outputs": [],
   "source": [
    "import numpy as np\n",
    "\n",
    "def smape(y_true, y_pred): \n",
    "    return np.mean(np.abs((y_pred - y_true) / (np.abs(y_pred) + np.abs(y_true))))"
   ]
  },
  {
   "cell_type": "markdown",
   "metadata": {},
   "source": [
    "Implement a generic auto-regressive model."
   ]
  },
  {
   "cell_type": "code",
   "execution_count": 7,
   "metadata": {},
   "outputs": [],
   "source": [
    "class ARModel:\n",
    "    \n",
    "    def __init__(self, p, model):\n",
    "        self.p = p\n",
    "        self.model = model\n",
    "    \n",
    "    def fit(self, path):\n",
    "        \n",
    "        n = path.strides[0]\n",
    "        X = np.lib.stride_tricks.as_strided(path, shape=(path.shape[0], self.p), strides=(n, n))[:-self.p]\n",
    "        Y = path[self.p:]\n",
    "        \n",
    "        # Save the most recent history for later usage\n",
    "        # Conceptually history is a list, but we give it an extra dimension because sklearn eats matrices\n",
    "        self.history = path[-self.p:].reshape(1, -1)\n",
    "        \n",
    "        self.model.fit(X, Y)\n",
    "        \n",
    "    def forecast(self, steps):\n",
    "        \n",
    "        history = self.history.copy()\n",
    "        predictions = np.empty(steps)\n",
    "        \n",
    "        for i in range(steps):\n",
    "            \n",
    "            y_pred = self.model.predict(history)[0]    \n",
    "            predictions[i] = y_pred\n",
    "            \n",
    "            # Shift forward (faster than np.roll)\n",
    "            history[0, :-1] = history[0, 1:]\n",
    "            history[0, -1] = y_pred\n",
    "            \n",
    "        return predictions"
   ]
  },
  {
   "cell_type": "markdown",
   "metadata": {},
   "source": [
    "## Local validation"
   ]
  },
  {
   "cell_type": "code",
   "execution_count": 8,
   "metadata": {},
   "outputs": [
    {
     "name": "stderr",
     "output_type": "stream",
     "text": [
      "100%|██████████| 225/225 [00:24<00:00, 13.89it/s]\n"
     ]
    }
   ],
   "source": [
    "import sklearn\n",
    "from sklearn import compose\n",
    "from sklearn import linear_model\n",
    "from sklearn import pipeline\n",
    "from sklearn import preprocessing\n",
    "import tqdm\n",
    "\n",
    "preds = []\n",
    "\n",
    "\n",
    "class Pipeline:\n",
    "    \"\"\"Barebones implementation with less overhead than sklearn.\"\"\"\n",
    "    \n",
    "    def __init__(self, *steps):\n",
    "        self.steps = steps\n",
    "    \n",
    "    def fit(self, X, y):\n",
    "        for transformer in self.steps[:-1]:\n",
    "            X = transformer.fit_transform(X, y)\n",
    "        self.steps[-1].fit(X, y)\n",
    "        return self\n",
    "    \n",
    "    def predict(self, X):\n",
    "        for transformer in self.steps[:-1]:\n",
    "            X = transformer.transform(X)\n",
    "        return self.steps[-1].predict(X)\n",
    "\n",
    "\n",
    "class StandardScaler(preprocessing.StandardScaler):\n",
    "    \"\"\"Barebones implementation with less overhead than sklearn.\"\"\"\n",
    "    \n",
    "    def transform(self, X):\n",
    "        return (X - self.mean_) / self.var_ ** .5\n",
    "    \n",
    "    \n",
    "class LinearRegression(linear_model.LinearRegression):\n",
    "    \"\"\"Barebones implementation with less overhead than sklearn.\"\"\"\n",
    "    \n",
    "    def predict(self, X):\n",
    "        return np.dot(X, self.coef_) + self.intercept_\n",
    "\n",
    "    \n",
    "model = ARModel(\n",
    "    p=48,\n",
    "    model=Pipeline(\n",
    "        StandardScaler(),\n",
    "        LinearRegression()\n",
    "    )\n",
    ")\n",
    "\n",
    "train = data.query('is_train')\n",
    "\n",
    "for sat, g in tqdm.tqdm(train.assign(is_fit=train.eval('percent < .6')).groupby('sat_id'), position=0):\n",
    "    \n",
    "    fit = g.query('is_fit')\n",
    "    val = g.query('not is_fit')\n",
    "    \n",
    "    for var in ('x', 'y', 'z', 'Vx', 'Vy', 'Vz'):\n",
    "        \n",
    "        model.fit(fit[var].to_numpy())\n",
    "        pred = model.forecast(len(val))\n",
    "\n",
    "        preds.append(pd.DataFrame({\n",
    "            'sat_id': sat,\n",
    "            'epoch': val['epoch'],\n",
    "            'y_true': val[var],\n",
    "            'y_pred': pred,\n",
    "            'variable': var\n",
    "        }))\n",
    "        \n",
    "preds = pd.concat(preds)"
   ]
  },
  {
   "cell_type": "code",
   "execution_count": 9,
   "metadata": {},
   "outputs": [
    {
     "data": {
      "text/plain": [
       "95.49000249924914"
      ]
     },
     "execution_count": 9,
     "metadata": {},
     "output_type": "execute_result"
    }
   ],
   "source": [
    "smapes = preds.groupby(['sat_id', 'variable']).apply(lambda g: smape(g['y_true'], g['y_pred']))\n",
    "mean_smape = smapes.mean()\n",
    "100 * (1 - mean_smape)"
   ]
  },
  {
   "cell_type": "markdown",
   "metadata": {},
   "source": [
    "Save the validation SMAPEs for further comparison and blending with other methods."
   ]
  },
  {
   "cell_type": "code",
   "execution_count": 10,
   "metadata": {},
   "outputs": [],
   "source": [
    "# smapes.rename('smape').to_csv('results/ar_val_scores.csv', header=True)\n",
    "# !head results/ar_val_scores.csv"
   ]
  },
  {
   "cell_type": "markdown",
   "metadata": {},
   "source": [
    "Use estimated positions to predict speed"
   ]
  },
  {
   "cell_type": "code",
   "execution_count": 11,
   "metadata": {},
   "outputs": [
    {
     "data": {
      "text/html": [
       "<div>\n",
       "<style scoped>\n",
       "    .dataframe tbody tr th:only-of-type {\n",
       "        vertical-align: middle;\n",
       "    }\n",
       "\n",
       "    .dataframe tbody tr th {\n",
       "        vertical-align: top;\n",
       "    }\n",
       "\n",
       "    .dataframe thead th {\n",
       "        text-align: right;\n",
       "    }\n",
       "</style>\n",
       "<table border=\"1\" class=\"dataframe\">\n",
       "  <thead>\n",
       "    <tr style=\"text-align: right;\">\n",
       "      <th>variable</th>\n",
       "      <th>sat_id</th>\n",
       "      <th>epoch</th>\n",
       "      <th>Vx</th>\n",
       "      <th>Vy</th>\n",
       "      <th>Vz</th>\n",
       "      <th>x</th>\n",
       "      <th>y</th>\n",
       "      <th>z</th>\n",
       "    </tr>\n",
       "  </thead>\n",
       "  <tbody>\n",
       "    <tr>\n",
       "      <th>0</th>\n",
       "      <td>0</td>\n",
       "      <td>2014-01-19 14:21:39.739</td>\n",
       "      <td>-1.803148</td>\n",
       "      <td>6.961875</td>\n",
       "      <td>-0.007593</td>\n",
       "      <td>8117.091074</td>\n",
       "      <td>1505.949120</td>\n",
       "      <td>-8.346646</td>\n",
       "    </tr>\n",
       "    <tr>\n",
       "      <th>1</th>\n",
       "      <td>0</td>\n",
       "      <td>2014-01-19 14:27:27.252</td>\n",
       "      <td>-3.752581</td>\n",
       "      <td>6.278008</td>\n",
       "      <td>-0.005178</td>\n",
       "      <td>7147.706091</td>\n",
       "      <td>3824.592547</td>\n",
       "      <td>-10.585737</td>\n",
       "    </tr>\n",
       "    <tr>\n",
       "      <th>2</th>\n",
       "      <td>0</td>\n",
       "      <td>2014-01-19 14:33:14.765</td>\n",
       "      <td>-5.446056</td>\n",
       "      <td>4.991029</td>\n",
       "      <td>-0.002184</td>\n",
       "      <td>5538.620135</td>\n",
       "      <td>5799.043349</td>\n",
       "      <td>-11.877244</td>\n",
       "    </tr>\n",
       "    <tr>\n",
       "      <th>3</th>\n",
       "      <td>0</td>\n",
       "      <td>2014-01-19 14:39:02.278</td>\n",
       "      <td>-6.665920</td>\n",
       "      <td>3.214951</td>\n",
       "      <td>0.001075</td>\n",
       "      <td>3417.685281</td>\n",
       "      <td>7236.455748</td>\n",
       "      <td>-12.071341</td>\n",
       "    </tr>\n",
       "    <tr>\n",
       "      <th>4</th>\n",
       "      <td>0</td>\n",
       "      <td>2014-01-19 14:44:49.791</td>\n",
       "      <td>-7.261348</td>\n",
       "      <td>1.155668</td>\n",
       "      <td>0.004216</td>\n",
       "      <td>978.403977</td>\n",
       "      <td>8000.542636</td>\n",
       "      <td>-11.141814</td>\n",
       "    </tr>\n",
       "  </tbody>\n",
       "</table>\n",
       "</div>"
      ],
      "text/plain": [
       "variable  sat_id                   epoch        Vx        Vy        Vz  \\\n",
       "0              0 2014-01-19 14:21:39.739 -1.803148  6.961875 -0.007593   \n",
       "1              0 2014-01-19 14:27:27.252 -3.752581  6.278008 -0.005178   \n",
       "2              0 2014-01-19 14:33:14.765 -5.446056  4.991029 -0.002184   \n",
       "3              0 2014-01-19 14:39:02.278 -6.665920  3.214951  0.001075   \n",
       "4              0 2014-01-19 14:44:49.791 -7.261348  1.155668  0.004216   \n",
       "\n",
       "variable            x            y          z  \n",
       "0         8117.091074  1505.949120  -8.346646  \n",
       "1         7147.706091  3824.592547 -10.585737  \n",
       "2         5538.620135  5799.043349 -11.877244  \n",
       "3         3417.685281  7236.455748 -12.071341  \n",
       "4          978.403977  8000.542636 -11.141814  "
      ]
     },
     "execution_count": 11,
     "metadata": {},
     "output_type": "execute_result"
    }
   ],
   "source": [
    "truth_val = preds.groupby('sat_id').apply(lambda g: g.pivot_table(index=['epoch'], columns='variable', values='y_true')).reset_index()\n",
    "preds = preds.groupby('sat_id').apply(lambda g: g.pivot_table(index=['epoch'], columns='variable', values='y_pred')).reset_index()\n",
    "preds.head()"
   ]
  },
  {
   "cell_type": "code",
   "execution_count": 12,
   "metadata": {},
   "outputs": [
    {
     "data": {
      "text/html": [
       "<div>\n",
       "<style scoped>\n",
       "    .dataframe tbody tr th:only-of-type {\n",
       "        vertical-align: middle;\n",
       "    }\n",
       "\n",
       "    .dataframe tbody tr th {\n",
       "        vertical-align: top;\n",
       "    }\n",
       "\n",
       "    .dataframe thead th {\n",
       "        text-align: right;\n",
       "    }\n",
       "</style>\n",
       "<table border=\"1\" class=\"dataframe\">\n",
       "  <thead>\n",
       "    <tr style=\"text-align: right;\">\n",
       "      <th>variable</th>\n",
       "      <th>sat_id</th>\n",
       "      <th>epoch</th>\n",
       "      <th>Vx</th>\n",
       "      <th>Vy</th>\n",
       "      <th>Vz</th>\n",
       "      <th>x</th>\n",
       "      <th>y</th>\n",
       "      <th>z</th>\n",
       "    </tr>\n",
       "  </thead>\n",
       "  <tbody>\n",
       "    <tr>\n",
       "      <th>0</th>\n",
       "      <td>0</td>\n",
       "      <td>2014-01-19 14:21:39.739</td>\n",
       "      <td>-2.789493</td>\n",
       "      <td>6.672106</td>\n",
       "      <td>-0.006443</td>\n",
       "      <td>8117.091074</td>\n",
       "      <td>1505.949120</td>\n",
       "      <td>-8.346646</td>\n",
       "    </tr>\n",
       "    <tr>\n",
       "      <th>1</th>\n",
       "      <td>0</td>\n",
       "      <td>2014-01-19 14:27:27.252</td>\n",
       "      <td>-4.630290</td>\n",
       "      <td>5.681660</td>\n",
       "      <td>-0.003716</td>\n",
       "      <td>7147.706091</td>\n",
       "      <td>3824.592547</td>\n",
       "      <td>-10.585737</td>\n",
       "    </tr>\n",
       "    <tr>\n",
       "      <th>2</th>\n",
       "      <td>0</td>\n",
       "      <td>2014-01-19 14:33:14.765</td>\n",
       "      <td>-6.103181</td>\n",
       "      <td>4.136284</td>\n",
       "      <td>-0.000559</td>\n",
       "      <td>5538.620135</td>\n",
       "      <td>5799.043349</td>\n",
       "      <td>-11.877244</td>\n",
       "    </tr>\n",
       "    <tr>\n",
       "      <th>3</th>\n",
       "      <td>0</td>\n",
       "      <td>2014-01-19 14:39:02.278</td>\n",
       "      <td>-7.019252</td>\n",
       "      <td>2.198729</td>\n",
       "      <td>0.002675</td>\n",
       "      <td>3417.685281</td>\n",
       "      <td>7236.455748</td>\n",
       "      <td>-12.071341</td>\n",
       "    </tr>\n",
       "    <tr>\n",
       "      <th>4</th>\n",
       "      <td>0</td>\n",
       "      <td>2014-01-19 14:44:49.791</td>\n",
       "      <td>-7.279612</td>\n",
       "      <td>0.101019</td>\n",
       "      <td>0.005605</td>\n",
       "      <td>978.403977</td>\n",
       "      <td>8000.542636</td>\n",
       "      <td>-11.141814</td>\n",
       "    </tr>\n",
       "  </tbody>\n",
       "</table>\n",
       "</div>"
      ],
      "text/plain": [
       "variable  sat_id                   epoch        Vx        Vy        Vz  \\\n",
       "0              0 2014-01-19 14:21:39.739 -2.789493  6.672106 -0.006443   \n",
       "1              0 2014-01-19 14:27:27.252 -4.630290  5.681660 -0.003716   \n",
       "2              0 2014-01-19 14:33:14.765 -6.103181  4.136284 -0.000559   \n",
       "3              0 2014-01-19 14:39:02.278 -7.019252  2.198729  0.002675   \n",
       "4              0 2014-01-19 14:44:49.791 -7.279612  0.101019  0.005605   \n",
       "\n",
       "variable            x            y          z  \n",
       "0         8117.091074  1505.949120  -8.346646  \n",
       "1         7147.706091  3824.592547 -10.585737  \n",
       "2         5538.620135  5799.043349 -11.877244  \n",
       "3         3417.685281  7236.455748 -12.071341  \n",
       "4          978.403977  8000.542636 -11.141814  "
      ]
     },
     "execution_count": 12,
     "metadata": {},
     "output_type": "execute_result"
    }
   ],
   "source": [
    "speed_preds = preds.copy()\n",
    "\n",
    "#Get the time difference between two observations in seconds\n",
    "preds[\"time_delta\"] = preds.groupby('sat_id').epoch.diff().bfill()\n",
    "preds[\"time_delta\"] = preds['time_delta'].apply(lambda t: t.total_seconds())\n",
    "\n",
    "for var in ('x', 'y', 'z'):\n",
    "    speed_preds[f\"V{var}\"] = preds.groupby('sat_id')[var].diff().shift(-1).ffill() / preds.time_delta\n",
    "\n",
    "speed_preds.head()"
   ]
  },
  {
   "cell_type": "code",
   "execution_count": 13,
   "metadata": {},
   "outputs": [
    {
     "data": {
      "text/html": [
       "<div>\n",
       "<style scoped>\n",
       "    .dataframe tbody tr th:only-of-type {\n",
       "        vertical-align: middle;\n",
       "    }\n",
       "\n",
       "    .dataframe tbody tr th {\n",
       "        vertical-align: top;\n",
       "    }\n",
       "\n",
       "    .dataframe thead th {\n",
       "        text-align: right;\n",
       "    }\n",
       "</style>\n",
       "<table border=\"1\" class=\"dataframe\">\n",
       "  <thead>\n",
       "    <tr style=\"text-align: right;\">\n",
       "      <th></th>\n",
       "      <th>sat_id</th>\n",
       "      <th>variable</th>\n",
       "      <th>smape</th>\n",
       "    </tr>\n",
       "  </thead>\n",
       "  <tbody>\n",
       "    <tr>\n",
       "      <th>0</th>\n",
       "      <td>0</td>\n",
       "      <td>Vx</td>\n",
       "      <td>0.155504</td>\n",
       "    </tr>\n",
       "    <tr>\n",
       "      <th>0</th>\n",
       "      <td>0</td>\n",
       "      <td>Vy</td>\n",
       "      <td>0.156138</td>\n",
       "    </tr>\n",
       "    <tr>\n",
       "      <th>0</th>\n",
       "      <td>0</td>\n",
       "      <td>Vz</td>\n",
       "      <td>0.223534</td>\n",
       "    </tr>\n",
       "    <tr>\n",
       "      <th>0</th>\n",
       "      <td>1</td>\n",
       "      <td>Vx</td>\n",
       "      <td>0.155355</td>\n",
       "    </tr>\n",
       "    <tr>\n",
       "      <th>0</th>\n",
       "      <td>1</td>\n",
       "      <td>Vy</td>\n",
       "      <td>0.155419</td>\n",
       "    </tr>\n",
       "  </tbody>\n",
       "</table>\n",
       "</div>"
      ],
      "text/plain": [
       "   sat_id variable     smape\n",
       "0       0       Vx  0.155504\n",
       "0       0       Vy  0.156138\n",
       "0       0       Vz  0.223534\n",
       "0       1       Vx  0.155355\n",
       "0       1       Vy  0.155419"
      ]
     },
     "execution_count": 13,
     "metadata": {},
     "output_type": "execute_result"
    }
   ],
   "source": [
    "list_smape = []\n",
    "for sat, g in speed_preds.groupby('sat_id'):\n",
    "    truth = truth_val.query('sat_id == @sat')\n",
    "    for var in ('Vx', 'Vy', 'Vz'):\n",
    "        list_smape.append(pd.DataFrame({\n",
    "            'sat_id': [sat],\n",
    "            'variable': [var],\n",
    "            'smape': [smape(truth[var].values, g[var].values)]\n",
    "        }))\n",
    "list_smape = pd.concat(list_smape)\n",
    "list_smape.head()"
   ]
  },
  {
   "cell_type": "code",
   "execution_count": 14,
   "metadata": {},
   "outputs": [],
   "source": [
    "# list_smape.to_csv('results/ar_speed_val_scores.csv', header=True, index=False)\n",
    "# !head results/ar_speed_val_scores.csv"
   ]
  },
  {
   "cell_type": "markdown",
   "metadata": {},
   "source": [
    "## Track 1"
   ]
  },
  {
   "cell_type": "markdown",
   "metadata": {},
   "source": [
    "Make predictions for the test set."
   ]
  },
  {
   "cell_type": "code",
   "execution_count": 15,
   "metadata": {},
   "outputs": [
    {
     "name": "stderr",
     "output_type": "stream",
     "text": [
      "100%|██████████| 225/225 [01:09<00:00,  3.23it/s]\n"
     ]
    },
    {
     "data": {
      "text/html": [
       "<div>\n",
       "<style scoped>\n",
       "    .dataframe tbody tr th:only-of-type {\n",
       "        vertical-align: middle;\n",
       "    }\n",
       "\n",
       "    .dataframe tbody tr th {\n",
       "        vertical-align: top;\n",
       "    }\n",
       "\n",
       "    .dataframe thead th {\n",
       "        text-align: right;\n",
       "    }\n",
       "</style>\n",
       "<table border=\"1\" class=\"dataframe\">\n",
       "  <thead>\n",
       "    <tr style=\"text-align: right;\">\n",
       "      <th></th>\n",
       "      <th>sat_id</th>\n",
       "      <th>id</th>\n",
       "      <th>epoch</th>\n",
       "      <th>y_pred</th>\n",
       "      <th>variable</th>\n",
       "    </tr>\n",
       "  </thead>\n",
       "  <tbody>\n",
       "    <tr>\n",
       "      <th>0</th>\n",
       "      <td>0</td>\n",
       "      <td>7708</td>\n",
       "      <td>2014-02-01 00:03:49.583</td>\n",
       "      <td>3185.223167</td>\n",
       "      <td>x</td>\n",
       "    </tr>\n",
       "    <tr>\n",
       "      <th>1</th>\n",
       "      <td>0</td>\n",
       "      <td>7709</td>\n",
       "      <td>2014-02-01 00:09:37.096</td>\n",
       "      <td>5068.188573</td>\n",
       "      <td>x</td>\n",
       "    </tr>\n",
       "    <tr>\n",
       "      <th>2</th>\n",
       "      <td>0</td>\n",
       "      <td>7710</td>\n",
       "      <td>2014-02-01 00:15:24.609</td>\n",
       "      <td>6682.304208</td>\n",
       "      <td>x</td>\n",
       "    </tr>\n",
       "    <tr>\n",
       "      <th>3</th>\n",
       "      <td>0</td>\n",
       "      <td>7711</td>\n",
       "      <td>2014-02-01 00:21:12.122</td>\n",
       "      <td>7929.525066</td>\n",
       "      <td>x</td>\n",
       "    </tr>\n",
       "    <tr>\n",
       "      <th>4</th>\n",
       "      <td>0</td>\n",
       "      <td>7712</td>\n",
       "      <td>2014-02-01 00:26:59.635</td>\n",
       "      <td>8719.965909</td>\n",
       "      <td>x</td>\n",
       "    </tr>\n",
       "  </tbody>\n",
       "</table>\n",
       "</div>"
      ],
      "text/plain": [
       "   sat_id    id                   epoch       y_pred variable\n",
       "0       0  7708 2014-02-01 00:03:49.583  3185.223167        x\n",
       "1       0  7709 2014-02-01 00:09:37.096  5068.188573        x\n",
       "2       0  7710 2014-02-01 00:15:24.609  6682.304208        x\n",
       "3       0  7711 2014-02-01 00:21:12.122  7929.525066        x\n",
       "4       0  7712 2014-02-01 00:26:59.635  8719.965909        x"
      ]
     },
     "execution_count": 15,
     "metadata": {},
     "output_type": "execute_result"
    }
   ],
   "source": [
    "preds = []\n",
    "\n",
    "train_sats = data.query('is_train and is_track_1')\n",
    "test_sats = data.query('not is_train and is_track_1')\n",
    "\n",
    "for sat in tqdm.tqdm(test_sats['sat_id'].unique(), position=0):\n",
    "\n",
    "    train = train_sats.query('sat_id == @sat')\n",
    "    test = test_sats.query('sat_id == @sat')\n",
    "    \n",
    "    for var in ('x', 'y', 'z', 'Vx', 'Vy', 'Vz'):\n",
    "\n",
    "        model.fit(train[var].to_numpy())\n",
    "        pred = model.forecast(len(test))\n",
    "\n",
    "        preds.append(pd.DataFrame({\n",
    "            'sat_id': test['sat_id'],\n",
    "            'id': test['id'],\n",
    "            'epoch': test['epoch'],\n",
    "            'y_pred': pred,\n",
    "            'variable': var\n",
    "        }))\n",
    "        \n",
    "preds = pd.concat(preds)\n",
    "preds.head()"
   ]
  },
  {
   "cell_type": "code",
   "execution_count": 16,
   "metadata": {},
   "outputs": [
    {
     "data": {
      "text/plain": [
       "2555820"
      ]
     },
     "execution_count": 16,
     "metadata": {},
     "output_type": "execute_result"
    }
   ],
   "source": [
    "len(preds)"
   ]
  },
  {
   "cell_type": "markdown",
   "metadata": {},
   "source": [
    "The predictions are melted, so we unmelt them."
   ]
  },
  {
   "cell_type": "code",
   "execution_count": 17,
   "metadata": {},
   "outputs": [
    {
     "data": {
      "text/html": [
       "<div>\n",
       "<style scoped>\n",
       "    .dataframe tbody tr th:only-of-type {\n",
       "        vertical-align: middle;\n",
       "    }\n",
       "\n",
       "    .dataframe tbody tr th {\n",
       "        vertical-align: top;\n",
       "    }\n",
       "\n",
       "    .dataframe thead th {\n",
       "        text-align: right;\n",
       "    }\n",
       "</style>\n",
       "<table border=\"1\" class=\"dataframe\">\n",
       "  <thead>\n",
       "    <tr style=\"text-align: right;\">\n",
       "      <th>variable</th>\n",
       "      <th>sat_id</th>\n",
       "      <th>id</th>\n",
       "      <th>epoch</th>\n",
       "      <th>Vx</th>\n",
       "      <th>Vy</th>\n",
       "      <th>Vz</th>\n",
       "      <th>x</th>\n",
       "      <th>y</th>\n",
       "      <th>z</th>\n",
       "    </tr>\n",
       "  </thead>\n",
       "  <tbody>\n",
       "    <tr>\n",
       "      <th>0</th>\n",
       "      <td>0</td>\n",
       "      <td>7708</td>\n",
       "      <td>2014-02-01 00:03:49.583</td>\n",
       "      <td>5.707164</td>\n",
       "      <td>2.095878</td>\n",
       "      <td>-0.012979</td>\n",
       "      <td>3185.223167</td>\n",
       "      <td>-9207.744328</td>\n",
       "      <td>7.432801</td>\n",
       "    </tr>\n",
       "    <tr>\n",
       "      <th>1</th>\n",
       "      <td>0</td>\n",
       "      <td>7709</td>\n",
       "      <td>2014-02-01 00:09:37.096</td>\n",
       "      <td>5.080057</td>\n",
       "      <td>3.420768</td>\n",
       "      <td>-0.013756</td>\n",
       "      <td>5068.188573</td>\n",
       "      <td>-8245.736243</td>\n",
       "      <td>2.767372</td>\n",
       "    </tr>\n",
       "    <tr>\n",
       "      <th>2</th>\n",
       "      <td>0</td>\n",
       "      <td>7710</td>\n",
       "      <td>2014-02-01 00:15:24.609</td>\n",
       "      <td>4.162317</td>\n",
       "      <td>4.597993</td>\n",
       "      <td>-0.013815</td>\n",
       "      <td>6682.304208</td>\n",
       "      <td>-6847.304887</td>\n",
       "      <td>-2.044874</td>\n",
       "    </tr>\n",
       "    <tr>\n",
       "      <th>3</th>\n",
       "      <td>0</td>\n",
       "      <td>7711</td>\n",
       "      <td>2014-02-01 00:21:12.122</td>\n",
       "      <td>2.972323</td>\n",
       "      <td>5.567031</td>\n",
       "      <td>-0.013102</td>\n",
       "      <td>7929.525066</td>\n",
       "      <td>-5074.098038</td>\n",
       "      <td>-6.744811</td>\n",
       "    </tr>\n",
       "    <tr>\n",
       "      <th>4</th>\n",
       "      <td>0</td>\n",
       "      <td>7712</td>\n",
       "      <td>2014-02-01 00:26:59.635</td>\n",
       "      <td>1.539694</td>\n",
       "      <td>6.260491</td>\n",
       "      <td>-0.011573</td>\n",
       "      <td>8719.965909</td>\n",
       "      <td>-3009.968876</td>\n",
       "      <td>-11.056034</td>\n",
       "    </tr>\n",
       "  </tbody>\n",
       "</table>\n",
       "</div>"
      ],
      "text/plain": [
       "variable  sat_id    id                   epoch        Vx        Vy        Vz  \\\n",
       "0              0  7708 2014-02-01 00:03:49.583  5.707164  2.095878 -0.012979   \n",
       "1              0  7709 2014-02-01 00:09:37.096  5.080057  3.420768 -0.013756   \n",
       "2              0  7710 2014-02-01 00:15:24.609  4.162317  4.597993 -0.013815   \n",
       "3              0  7711 2014-02-01 00:21:12.122  2.972323  5.567031 -0.013102   \n",
       "4              0  7712 2014-02-01 00:26:59.635  1.539694  6.260491 -0.011573   \n",
       "\n",
       "variable            x            y          z  \n",
       "0         3185.223167 -9207.744328   7.432801  \n",
       "1         5068.188573 -8245.736243   2.767372  \n",
       "2         6682.304208 -6847.304887  -2.044874  \n",
       "3         7929.525066 -5074.098038  -6.744811  \n",
       "4         8719.965909 -3009.968876 -11.056034  "
      ]
     },
     "execution_count": 17,
     "metadata": {},
     "output_type": "execute_result"
    }
   ],
   "source": [
    "preds = preds.groupby('sat_id').apply(lambda g: g.pivot_table(index=['id', 'epoch'], columns='variable', values='y_pred')).reset_index()\n",
    "preds.head()"
   ]
  },
  {
   "cell_type": "markdown",
   "metadata": {},
   "source": [
    "Take into account the shifts."
   ]
  },
  {
   "cell_type": "code",
   "execution_count": 18,
   "metadata": {},
   "outputs": [
    {
     "name": "stderr",
     "output_type": "stream",
     "text": [
      "100%|██████████| 225/225 [00:01<00:00, 172.91it/s]\n"
     ]
    }
   ],
   "source": [
    "correct_preds = []\n",
    "\n",
    "cols_to_shift = ['x', 'y', 'z', 'Vx', 'Vy', 'Vz']\n",
    "\n",
    "for _, g in tqdm.tqdm(preds.groupby('sat_id'), position=0):\n",
    "    \n",
    "    g = g.copy()\n",
    "    dups = g[g['epoch'].diff() < dt.timedelta(seconds=60)].index\n",
    "    \n",
    "    for i in dups:\n",
    "        g.loc[i:, cols_to_shift] = g.loc[i:, cols_to_shift].shift()\n",
    "    g[cols_to_shift] = g[cols_to_shift].ffill()\n",
    "    \n",
    "    correct_preds.append(g)\n",
    "    \n",
    "correct_preds = pd.concat(correct_preds)"
   ]
  },
  {
   "cell_type": "code",
   "execution_count": 19,
   "metadata": {},
   "outputs": [
    {
     "data": {
      "text/html": [
       "<div>\n",
       "<style scoped>\n",
       "    .dataframe tbody tr th:only-of-type {\n",
       "        vertical-align: middle;\n",
       "    }\n",
       "\n",
       "    .dataframe tbody tr th {\n",
       "        vertical-align: top;\n",
       "    }\n",
       "\n",
       "    .dataframe thead th {\n",
       "        text-align: right;\n",
       "    }\n",
       "</style>\n",
       "<table border=\"1\" class=\"dataframe\">\n",
       "  <thead>\n",
       "    <tr style=\"text-align: right;\">\n",
       "      <th>variable</th>\n",
       "      <th>sat_id</th>\n",
       "      <th>id</th>\n",
       "      <th>epoch</th>\n",
       "      <th>Vx</th>\n",
       "      <th>Vy</th>\n",
       "      <th>Vz</th>\n",
       "      <th>x</th>\n",
       "      <th>y</th>\n",
       "      <th>z</th>\n",
       "    </tr>\n",
       "  </thead>\n",
       "  <tbody>\n",
       "    <tr>\n",
       "      <th>0</th>\n",
       "      <td>0</td>\n",
       "      <td>7708</td>\n",
       "      <td>2014-02-01 00:03:49.583</td>\n",
       "      <td>5.707164</td>\n",
       "      <td>2.095878</td>\n",
       "      <td>-0.012979</td>\n",
       "      <td>3185.223167</td>\n",
       "      <td>-9207.744328</td>\n",
       "      <td>7.432801</td>\n",
       "    </tr>\n",
       "    <tr>\n",
       "      <th>1</th>\n",
       "      <td>0</td>\n",
       "      <td>7709</td>\n",
       "      <td>2014-02-01 00:09:37.096</td>\n",
       "      <td>5.080057</td>\n",
       "      <td>3.420768</td>\n",
       "      <td>-0.013756</td>\n",
       "      <td>5068.188573</td>\n",
       "      <td>-8245.736243</td>\n",
       "      <td>2.767372</td>\n",
       "    </tr>\n",
       "    <tr>\n",
       "      <th>2</th>\n",
       "      <td>0</td>\n",
       "      <td>7710</td>\n",
       "      <td>2014-02-01 00:15:24.609</td>\n",
       "      <td>4.162317</td>\n",
       "      <td>4.597993</td>\n",
       "      <td>-0.013815</td>\n",
       "      <td>6682.304208</td>\n",
       "      <td>-6847.304887</td>\n",
       "      <td>-2.044874</td>\n",
       "    </tr>\n",
       "    <tr>\n",
       "      <th>3</th>\n",
       "      <td>0</td>\n",
       "      <td>7711</td>\n",
       "      <td>2014-02-01 00:21:12.122</td>\n",
       "      <td>2.972323</td>\n",
       "      <td>5.567031</td>\n",
       "      <td>-0.013102</td>\n",
       "      <td>7929.525066</td>\n",
       "      <td>-5074.098038</td>\n",
       "      <td>-6.744811</td>\n",
       "    </tr>\n",
       "    <tr>\n",
       "      <th>4</th>\n",
       "      <td>0</td>\n",
       "      <td>7712</td>\n",
       "      <td>2014-02-01 00:26:59.635</td>\n",
       "      <td>1.539694</td>\n",
       "      <td>6.260491</td>\n",
       "      <td>-0.011573</td>\n",
       "      <td>8719.965909</td>\n",
       "      <td>-3009.968876</td>\n",
       "      <td>-11.056034</td>\n",
       "    </tr>\n",
       "  </tbody>\n",
       "</table>\n",
       "</div>"
      ],
      "text/plain": [
       "variable  sat_id    id                   epoch        Vx        Vy        Vz  \\\n",
       "0              0  7708 2014-02-01 00:03:49.583  5.707164  2.095878 -0.012979   \n",
       "1              0  7709 2014-02-01 00:09:37.096  5.080057  3.420768 -0.013756   \n",
       "2              0  7710 2014-02-01 00:15:24.609  4.162317  4.597993 -0.013815   \n",
       "3              0  7711 2014-02-01 00:21:12.122  2.972323  5.567031 -0.013102   \n",
       "4              0  7712 2014-02-01 00:26:59.635  1.539694  6.260491 -0.011573   \n",
       "\n",
       "variable            x            y          z  \n",
       "0         3185.223167 -9207.744328   7.432801  \n",
       "1         5068.188573 -8245.736243   2.767372  \n",
       "2         6682.304208 -6847.304887  -2.044874  \n",
       "3         7929.525066 -5074.098038  -6.744811  \n",
       "4         8719.965909 -3009.968876 -11.056034  "
      ]
     },
     "execution_count": 19,
     "metadata": {},
     "output_type": "execute_result"
    }
   ],
   "source": [
    "correct_preds.head()"
   ]
  },
  {
   "cell_type": "code",
   "execution_count": 20,
   "metadata": {},
   "outputs": [
    {
     "data": {
      "text/plain": [
       "0"
      ]
     },
     "execution_count": 20,
     "metadata": {},
     "output_type": "execute_result"
    }
   ],
   "source": [
    "correct_preds.duplicated(['sat_id', 'id']).sum()"
   ]
  },
  {
   "cell_type": "markdown",
   "metadata": {},
   "source": [
    "Save the predictions for track 1. "
   ]
  },
  {
   "cell_type": "code",
   "execution_count": 21,
   "metadata": {},
   "outputs": [],
   "source": [
    "correct_preds[['id', 'x', 'y', 'z', 'Vx', 'Vy', 'Vz']].to_csv(PATH_SAVE, index=False)\n"
   ]
  },
  {
   "cell_type": "markdown",
   "metadata": {},
   "source": [
    "# ––––––––––––––––––"
   ]
  },
  {
   "cell_type": "code",
   "execution_count": 22,
   "metadata": {},
   "outputs": [],
   "source": [
    "# speed_preds = correct_preds.copy()\n",
    "\n",
    "# #Get the time difference between two observations in seconds\n",
    "# correct_preds[\"time_delta\"] = correct_preds.groupby('sat_id').epoch.diff().bfill()\n",
    "# correct_preds[\"time_delta\"] = correct_preds['time_delta'].apply(lambda t: t.total_seconds())\n",
    "\n",
    "# for var in ('x', 'y', 'z'):\n",
    "#     speed_preds[f\"V{var}\"] = correct_preds.groupby('sat_id')[var].diff().shift(-1).ffill() / correct_preds.time_delta\n",
    "\n",
    "# speed_preds.head()"
   ]
  },
  {
   "cell_type": "code",
   "execution_count": 23,
   "metadata": {},
   "outputs": [],
   "source": [
    "# speed_preds[['id', 'x', 'y', 'z', 'Vx', 'Vy', 'Vz']].to_csv('results/ar_speed_track_1.csv', index=False)\n",
    "# !head -5 results/ar_speed_track_1.csv"
   ]
  },
  {
   "cell_type": "markdown",
   "metadata": {},
   "source": [
    "## Track 2"
   ]
  },
  {
   "cell_type": "code",
   "execution_count": 24,
   "metadata": {},
   "outputs": [],
   "source": [
    "# import copy\n",
    "\n",
    "# models = {}\n",
    "\n",
    "# train_sats = data.query('is_train and not is_track_1')  # is_track_2 = not is_track_1 \n",
    "\n",
    "# for sat, g in tqdm.tqdm(train_sats.groupby('sat_id'), position=0):\n",
    "    \n",
    "#     models[sat] = {}\n",
    "\n",
    "#     for col in ('x', 'y', 'z', 'Vx', 'Vy', 'Vz'):\n",
    "\n",
    "#         path = g[col].to_numpy()\n",
    "#         model.fit(path)\n",
    "#         models[sat][col] = copy.deepcopy(model)"
   ]
  },
  {
   "cell_type": "markdown",
   "metadata": {},
   "source": [
    "Save the models and the histories."
   ]
  },
  {
   "cell_type": "code",
   "execution_count": 25,
   "metadata": {},
   "outputs": [],
   "source": [
    "# import joblib\n",
    "\n",
    "# joblib.dump(models, 'track_2/ar_models.pkl')\n",
    "# !du -h track_2/ar_models.pkl"
   ]
  }
 ],
 "metadata": {
  "kernelspec": {
   "display_name": "Python 3",
   "language": "python",
   "name": "python3"
  },
  "language_info": {
   "codemirror_mode": {
    "name": "ipython",
    "version": 3
   },
   "file_extension": ".py",
   "mimetype": "text/x-python",
   "name": "python",
   "nbconvert_exporter": "python",
   "pygments_lexer": "ipython3",
   "version": "3.7.3"
  }
 },
 "nbformat": 4,
 "nbformat_minor": 4
}
