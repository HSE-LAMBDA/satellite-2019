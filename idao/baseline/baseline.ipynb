{
 "cells": [
  {
   "cell_type": "code",
   "execution_count": 1,
   "metadata": {},
   "outputs": [],
   "source": [
    "import pandas as pd\n",
    "import numpy as np\n",
    "import matplotlib.pyplot as plt\n",
    "%matplotlib inline"
   ]
  },
  {
   "cell_type": "markdown",
   "metadata": {},
   "source": [
    "# Data"
   ]
  },
  {
   "cell_type": "code",
   "execution_count": 2,
   "metadata": {},
   "outputs": [],
   "source": [
    "df_train = pd.read_csv(\"data/train.csv\", index_col=\"id\")\n",
    "df_test = pd.read_csv(\"data/test.csv\", index_col=\"id\")\n",
    "df_test_ans = pd.read_csv(\"data/ans.csv\", index_col=\"id\")\n",
    "df_test_ans['sat_id'] = df_test['sat_id']\n",
    "df_pred_sgp4 = pd.read_csv(\"data/pred_sgp.csv\", index_col=\"id\")\n",
    "\n",
    "n_sat = len(pd.unique(df_train[\"sat_id\"]))"
   ]
  },
  {
   "cell_type": "markdown",
   "metadata": {},
   "source": [
    "# LR"
   ]
  },
  {
   "cell_type": "code",
   "execution_count": 3,
   "metadata": {},
   "outputs": [],
   "source": [
    "from sklearn.linear_model import LinearRegression, Ridge\n",
    "from sklearn.preprocessing import PolynomialFeatures\n",
    "from tqdm import tqdm"
   ]
  },
  {
   "cell_type": "code",
   "execution_count": 4,
   "metadata": {},
   "outputs": [],
   "source": [
    "# features columns \n",
    "feature_cols = [\"x_sim\", \"y_sim\", \"z_sim\", \"Vx_sim\", \"Vy_sim\", \"Vz_sim\"]\n",
    "\n",
    "# target variables columns \n",
    "target_cols = [\"x\", \"y\", \"z\", \"Vx\", \"Vy\", \"Vz\"]"
   ]
  },
  {
   "cell_type": "code",
   "execution_count": 5,
   "metadata": {},
   "outputs": [
    {
     "name": "stderr",
     "output_type": "stream",
     "text": [
      "100%|██████████| 600/600 [01:41<00:00,  4.54it/s]\n"
     ]
    }
   ],
   "source": [
    "# Linear (Polynomial) Regression models\n",
    "poly = PolynomialFeatures(2)\n",
    "\n",
    "pred_lr = pd.DataFrame(columns=target_cols, index=df_test.index)\n",
    "pred_lr[\"sat_id\"] = df_test[\"sat_id\"]\n",
    "\n",
    "for sat_id in tqdm(range(n_sat)):\n",
    "    \n",
    "    train_idxs = df_train[\"sat_id\"] == sat_id\n",
    "    test_idxs = df_test[\"sat_id\"] == sat_id\n",
    "    X_train = df_train.loc[train_idxs, feature_cols]\n",
    "    y_train = df_train.loc[train_idxs, target_cols]\n",
    "    X_test = df_test.loc[test_idxs, feature_cols]\n",
    "    \n",
    "    model = LinearRegression(normalize=True).fit(X_train.values, y_train.values) \n",
    "    pred_lr.loc[test_idxs, target_cols] = model.predict(X_test.values)"
   ]
  },
  {
   "cell_type": "markdown",
   "metadata": {},
   "source": [
    "# IDAO"
   ]
  },
  {
   "cell_type": "code",
   "execution_count": 6,
   "metadata": {},
   "outputs": [],
   "source": [
    "pred_idao = pd.read_csv('data/sub_idao_example.csv', index_col='id')"
   ]
  },
  {
   "cell_type": "code",
   "execution_count": 7,
   "metadata": {},
   "outputs": [],
   "source": [
    "pred_idao['sat_id'] = pred_lr['sat_id']"
   ]
  },
  {
   "cell_type": "markdown",
   "metadata": {},
   "source": [
    "# Metrics"
   ]
  },
  {
   "cell_type": "code",
   "execution_count": 8,
   "metadata": {},
   "outputs": [],
   "source": [
    "from metrics import smape_idao, idao_score, smape_new_vector_norm, mahalanobis_distance"
   ]
  },
  {
   "cell_type": "code",
   "execution_count": 9,
   "metadata": {},
   "outputs": [],
   "source": [
    "def print_metrics(model_name, pred):\n",
    "    print(f\"\\n{model_name}\\n\")\n",
    "    print(f\"IDAO score:  {idao_score(pred[target_cols], df_test_ans[target_cols])}\")    \n",
    "    print(f\"SMAPE IDAO:  {smape_idao(pred[target_cols], df_test_ans[target_cols])}\")    \n",
    "    print(f\"SMAPE new:   {smape_new_vector_norm(pred, df_test_ans)}\")    \n",
    "#     print(f\"Mahalanobis: {mahalanobis_distance(pred, df_test_ans)}\")"
   ]
  },
  {
   "cell_type": "code",
   "execution_count": 11,
   "metadata": {},
   "outputs": [
    {
     "name": "stdout",
     "output_type": "stream",
     "text": [
      "\n",
      "SGP4 – Total Score:\n",
      "\n",
      "IDAO score:  85.76745399276147\n",
      "SMAPE IDAO:  0.14232546007238525\n",
      "SMAPE new:   0.2105207081354428\n",
      "\n",
      "LR – Total Score:\n",
      "\n",
      "IDAO score:  91.81678353872567\n",
      "SMAPE IDAO:  0.08183216461274322\n",
      "SMAPE new:   0.1272771961005083\n",
      "\n",
      "IDAO – Total Score:\n",
      "\n",
      "IDAO score:  96.92031297743414\n",
      "SMAPE IDAO:  0.030796870225658628\n",
      "SMAPE new:   0.052050588061025874\n"
     ]
    }
   ],
   "source": [
    "pred_sgp4 = df_pred_sgp4.rename(\n",
    "    columns=dict(zip(feature_cols, target_cols)))\n",
    "\n",
    "print_metrics(\"SGP4 – Total Score:\", pred_sgp4)\n",
    "print_metrics(\"LR – Total Score:\", pred_lr)\n",
    "print_metrics(\"IDAO – Total Score:\", pred_idao)"
   ]
  }
 ],
 "metadata": {
  "kernelspec": {
   "display_name": "Python 3",
   "language": "python",
   "name": "python3"
  },
  "language_info": {
   "codemirror_mode": {
    "name": "ipython",
    "version": 3
   },
   "file_extension": ".py",
   "mimetype": "text/x-python",
   "name": "python",
   "nbconvert_exporter": "python",
   "pygments_lexer": "ipython3",
   "version": "3.7.3"
  }
 },
 "nbformat": 4,
 "nbformat_minor": 2
}
