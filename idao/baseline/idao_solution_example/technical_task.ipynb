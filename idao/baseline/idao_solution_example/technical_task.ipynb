{
 "cells": [
  {
   "cell_type": "code",
   "execution_count": 77,
   "metadata": {},
   "outputs": [],
   "source": [
    "import pandas as pd\n",
    "import numpy as np"
   ]
  },
  {
   "cell_type": "code",
   "execution_count": 78,
   "metadata": {},
   "outputs": [],
   "source": [
    "test = pd.read_csv('../__idao_data/tr1/test.csv', index_col=\"id\")\n",
    "sub = pd.read_csv('../__idao_data/tr1/submission.csv', index_col=\"id\")"
   ]
  },
  {
   "cell_type": "code",
   "execution_count": 79,
   "metadata": {},
   "outputs": [],
   "source": [
    "ans_team = pd.read_csv('submission.csv', index_col=\"id\")\n",
    "ans_true = pd.read_csv('../__idao_ans/tr1/ans.csv', index_col=\"id\")"
   ]
  },
  {
   "cell_type": "code",
   "execution_count": 80,
   "metadata": {},
   "outputs": [
    {
     "name": "stdout",
     "output_type": "stream",
     "text": [
      "(284071, 8)\n",
      "(284071, 6)\n",
      "(284071, 6)\n",
      "(284071, 6)\n"
     ]
    }
   ],
   "source": [
    "print(test.shape)\n",
    "print(sub.shape)\n",
    "print(ans_team.shape)\n",
    "print(ans_true.shape)\n"
   ]
  },
  {
   "cell_type": "code",
   "execution_count": 81,
   "metadata": {},
   "outputs": [
    {
     "data": {
      "text/html": [
       "<div>\n",
       "<style scoped>\n",
       "    .dataframe tbody tr th:only-of-type {\n",
       "        vertical-align: middle;\n",
       "    }\n",
       "\n",
       "    .dataframe tbody tr th {\n",
       "        vertical-align: top;\n",
       "    }\n",
       "\n",
       "    .dataframe thead th {\n",
       "        text-align: right;\n",
       "    }\n",
       "</style>\n",
       "<table border=\"1\" class=\"dataframe\">\n",
       "  <thead>\n",
       "    <tr style=\"text-align: right;\">\n",
       "      <th></th>\n",
       "      <th>sat_id</th>\n",
       "      <th>epoch</th>\n",
       "      <th>x_sim</th>\n",
       "      <th>y_sim</th>\n",
       "      <th>z_sim</th>\n",
       "      <th>Vx_sim</th>\n",
       "      <th>Vy_sim</th>\n",
       "      <th>Vz_sim</th>\n",
       "    </tr>\n",
       "    <tr>\n",
       "      <th>id</th>\n",
       "      <th></th>\n",
       "      <th></th>\n",
       "      <th></th>\n",
       "      <th></th>\n",
       "      <th></th>\n",
       "      <th></th>\n",
       "      <th></th>\n",
       "      <th></th>\n",
       "    </tr>\n",
       "  </thead>\n",
       "  <tbody>\n",
       "    <tr>\n",
       "      <th>3927</th>\n",
       "      <td>1</td>\n",
       "      <td>2014-02-01T00:01:45.162</td>\n",
       "      <td>-13366.891347</td>\n",
       "      <td>-14236.753503</td>\n",
       "      <td>6386.774555</td>\n",
       "      <td>4.333815</td>\n",
       "      <td>-0.692764</td>\n",
       "      <td>0.810774</td>\n",
       "    </tr>\n",
       "    <tr>\n",
       "      <th>3928</th>\n",
       "      <td>1</td>\n",
       "      <td>2014-02-01T00:22:57.007</td>\n",
       "      <td>-7370.434039</td>\n",
       "      <td>-14498.771520</td>\n",
       "      <td>7130.411325</td>\n",
       "      <td>5.077413</td>\n",
       "      <td>0.360609</td>\n",
       "      <td>0.313402</td>\n",
       "    </tr>\n",
       "    <tr>\n",
       "      <th>3929</th>\n",
       "      <td>1</td>\n",
       "      <td>2014-02-01T00:44:08.852</td>\n",
       "      <td>-572.068654</td>\n",
       "      <td>-13065.289498</td>\n",
       "      <td>7033.794876</td>\n",
       "      <td>5.519106</td>\n",
       "      <td>2.012830</td>\n",
       "      <td>-0.539412</td>\n",
       "    </tr>\n",
       "    <tr>\n",
       "      <th>3930</th>\n",
       "      <td>1</td>\n",
       "      <td>2014-02-01T01:05:20.697</td>\n",
       "      <td>6208.945257</td>\n",
       "      <td>-9076.852425</td>\n",
       "      <td>5548.296900</td>\n",
       "      <td>4.849212</td>\n",
       "      <td>4.338955</td>\n",
       "      <td>-1.869600</td>\n",
       "    </tr>\n",
       "    <tr>\n",
       "      <th>3931</th>\n",
       "      <td>1</td>\n",
       "      <td>2014-02-01T01:26:32.542</td>\n",
       "      <td>10768.200284</td>\n",
       "      <td>-2199.706707</td>\n",
       "      <td>2272.014862</td>\n",
       "      <td>1.940505</td>\n",
       "      <td>6.192887</td>\n",
       "      <td>-3.167724</td>\n",
       "    </tr>\n",
       "  </tbody>\n",
       "</table>\n",
       "</div>"
      ],
      "text/plain": [
       "      sat_id                    epoch         x_sim         y_sim  \\\n",
       "id                                                                  \n",
       "3927       1  2014-02-01T00:01:45.162 -13366.891347 -14236.753503   \n",
       "3928       1  2014-02-01T00:22:57.007  -7370.434039 -14498.771520   \n",
       "3929       1  2014-02-01T00:44:08.852   -572.068654 -13065.289498   \n",
       "3930       1  2014-02-01T01:05:20.697   6208.945257  -9076.852425   \n",
       "3931       1  2014-02-01T01:26:32.542  10768.200284  -2199.706707   \n",
       "\n",
       "            z_sim    Vx_sim    Vy_sim    Vz_sim  \n",
       "id                                               \n",
       "3927  6386.774555  4.333815 -0.692764  0.810774  \n",
       "3928  7130.411325  5.077413  0.360609  0.313402  \n",
       "3929  7033.794876  5.519106  2.012830 -0.539412  \n",
       "3930  5548.296900  4.849212  4.338955 -1.869600  \n",
       "3931  2272.014862  1.940505  6.192887 -3.167724  "
      ]
     },
     "execution_count": 81,
     "metadata": {},
     "output_type": "execute_result"
    }
   ],
   "source": [
    "test.head()"
   ]
  },
  {
   "cell_type": "code",
   "execution_count": 82,
   "metadata": {
    "scrolled": true
   },
   "outputs": [
    {
     "data": {
      "text/html": [
       "<div>\n",
       "<style scoped>\n",
       "    .dataframe tbody tr th:only-of-type {\n",
       "        vertical-align: middle;\n",
       "    }\n",
       "\n",
       "    .dataframe tbody tr th {\n",
       "        vertical-align: top;\n",
       "    }\n",
       "\n",
       "    .dataframe thead th {\n",
       "        text-align: right;\n",
       "    }\n",
       "</style>\n",
       "<table border=\"1\" class=\"dataframe\">\n",
       "  <thead>\n",
       "    <tr style=\"text-align: right;\">\n",
       "      <th></th>\n",
       "      <th>x</th>\n",
       "      <th>y</th>\n",
       "      <th>z</th>\n",
       "      <th>Vx</th>\n",
       "      <th>Vy</th>\n",
       "      <th>Vz</th>\n",
       "    </tr>\n",
       "    <tr>\n",
       "      <th>id</th>\n",
       "      <th></th>\n",
       "      <th></th>\n",
       "      <th></th>\n",
       "      <th></th>\n",
       "      <th></th>\n",
       "      <th></th>\n",
       "    </tr>\n",
       "  </thead>\n",
       "  <tbody>\n",
       "    <tr>\n",
       "      <th>3927</th>\n",
       "      <td>-13366.891347</td>\n",
       "      <td>-14236.753503</td>\n",
       "      <td>6386.774555</td>\n",
       "      <td>4.333815</td>\n",
       "      <td>-0.692764</td>\n",
       "      <td>0.810774</td>\n",
       "    </tr>\n",
       "    <tr>\n",
       "      <th>3928</th>\n",
       "      <td>-7370.434039</td>\n",
       "      <td>-14498.771520</td>\n",
       "      <td>7130.411325</td>\n",
       "      <td>5.077413</td>\n",
       "      <td>0.360609</td>\n",
       "      <td>0.313402</td>\n",
       "    </tr>\n",
       "    <tr>\n",
       "      <th>3929</th>\n",
       "      <td>-572.068654</td>\n",
       "      <td>-13065.289498</td>\n",
       "      <td>7033.794876</td>\n",
       "      <td>5.519106</td>\n",
       "      <td>2.012830</td>\n",
       "      <td>-0.539412</td>\n",
       "    </tr>\n",
       "    <tr>\n",
       "      <th>3930</th>\n",
       "      <td>6208.945257</td>\n",
       "      <td>-9076.852425</td>\n",
       "      <td>5548.296900</td>\n",
       "      <td>4.849212</td>\n",
       "      <td>4.338955</td>\n",
       "      <td>-1.869600</td>\n",
       "    </tr>\n",
       "    <tr>\n",
       "      <th>3931</th>\n",
       "      <td>10768.200284</td>\n",
       "      <td>-2199.706707</td>\n",
       "      <td>2272.014862</td>\n",
       "      <td>1.940505</td>\n",
       "      <td>6.192887</td>\n",
       "      <td>-3.167724</td>\n",
       "    </tr>\n",
       "  </tbody>\n",
       "</table>\n",
       "</div>"
      ],
      "text/plain": [
       "                 x             y            z        Vx        Vy        Vz\n",
       "id                                                                         \n",
       "3927 -13366.891347 -14236.753503  6386.774555  4.333815 -0.692764  0.810774\n",
       "3928  -7370.434039 -14498.771520  7130.411325  5.077413  0.360609  0.313402\n",
       "3929   -572.068654 -13065.289498  7033.794876  5.519106  2.012830 -0.539412\n",
       "3930   6208.945257  -9076.852425  5548.296900  4.849212  4.338955 -1.869600\n",
       "3931  10768.200284  -2199.706707  2272.014862  1.940505  6.192887 -3.167724"
      ]
     },
     "execution_count": 82,
     "metadata": {},
     "output_type": "execute_result"
    }
   ],
   "source": [
    "sub.head()"
   ]
  },
  {
   "cell_type": "code",
   "execution_count": 83,
   "metadata": {},
   "outputs": [
    {
     "data": {
      "text/html": [
       "<div>\n",
       "<style scoped>\n",
       "    .dataframe tbody tr th:only-of-type {\n",
       "        vertical-align: middle;\n",
       "    }\n",
       "\n",
       "    .dataframe tbody tr th {\n",
       "        vertical-align: top;\n",
       "    }\n",
       "\n",
       "    .dataframe thead th {\n",
       "        text-align: right;\n",
       "    }\n",
       "</style>\n",
       "<table border=\"1\" class=\"dataframe\">\n",
       "  <thead>\n",
       "    <tr style=\"text-align: right;\">\n",
       "      <th></th>\n",
       "      <th>x</th>\n",
       "      <th>y</th>\n",
       "      <th>z</th>\n",
       "      <th>Vx</th>\n",
       "      <th>Vy</th>\n",
       "      <th>Vz</th>\n",
       "    </tr>\n",
       "    <tr>\n",
       "      <th>id</th>\n",
       "      <th></th>\n",
       "      <th></th>\n",
       "      <th></th>\n",
       "      <th></th>\n",
       "      <th></th>\n",
       "      <th></th>\n",
       "    </tr>\n",
       "  </thead>\n",
       "  <tbody>\n",
       "    <tr>\n",
       "      <th>3927</th>\n",
       "      <td>-24789.953903</td>\n",
       "      <td>-10909.104984</td>\n",
       "      <td>6566.102066</td>\n",
       "      <td>2.614835</td>\n",
       "      <td>-1.304002</td>\n",
       "      <td>1.087387</td>\n",
       "    </tr>\n",
       "    <tr>\n",
       "      <th>3928</th>\n",
       "      <td>-21084.919391</td>\n",
       "      <td>-12382.982109</td>\n",
       "      <td>7835.944162</td>\n",
       "      <td>3.219872</td>\n",
       "      <td>-0.994565</td>\n",
       "      <td>0.896041</td>\n",
       "    </tr>\n",
       "    <tr>\n",
       "      <th>3929</th>\n",
       "      <td>-16576.617680</td>\n",
       "      <td>-13377.863994</td>\n",
       "      <td>8802.253404</td>\n",
       "      <td>3.878736</td>\n",
       "      <td>-0.539572</td>\n",
       "      <td>0.601988</td>\n",
       "    </tr>\n",
       "    <tr>\n",
       "      <th>3930</th>\n",
       "      <td>-11198.146103</td>\n",
       "      <td>-13654.191287</td>\n",
       "      <td>9294.803223</td>\n",
       "      <td>4.583997</td>\n",
       "      <td>0.157488</td>\n",
       "      <td>0.134757</td>\n",
       "    </tr>\n",
       "    <tr>\n",
       "      <th>3931</th>\n",
       "      <td>-4928.171451</td>\n",
       "      <td>-12793.704838</td>\n",
       "      <td>9011.342391</td>\n",
       "      <td>5.252874</td>\n",
       "      <td>1.294504</td>\n",
       "      <td>-0.653884</td>\n",
       "    </tr>\n",
       "  </tbody>\n",
       "</table>\n",
       "</div>"
      ],
      "text/plain": [
       "                 x             y            z        Vx        Vy        Vz\n",
       "id                                                                         \n",
       "3927 -24789.953903 -10909.104984  6566.102066  2.614835 -1.304002  1.087387\n",
       "3928 -21084.919391 -12382.982109  7835.944162  3.219872 -0.994565  0.896041\n",
       "3929 -16576.617680 -13377.863994  8802.253404  3.878736 -0.539572  0.601988\n",
       "3930 -11198.146103 -13654.191287  9294.803223  4.583997  0.157488  0.134757\n",
       "3931  -4928.171451 -12793.704838  9011.342391  5.252874  1.294504 -0.653884"
      ]
     },
     "execution_count": 83,
     "metadata": {},
     "output_type": "execute_result"
    }
   ],
   "source": [
    "ans_team.head()"
   ]
  },
  {
   "cell_type": "code",
   "execution_count": 84,
   "metadata": {},
   "outputs": [
    {
     "data": {
      "text/html": [
       "<div>\n",
       "<style scoped>\n",
       "    .dataframe tbody tr th:only-of-type {\n",
       "        vertical-align: middle;\n",
       "    }\n",
       "\n",
       "    .dataframe tbody tr th {\n",
       "        vertical-align: top;\n",
       "    }\n",
       "\n",
       "    .dataframe thead th {\n",
       "        text-align: right;\n",
       "    }\n",
       "</style>\n",
       "<table border=\"1\" class=\"dataframe\">\n",
       "  <thead>\n",
       "    <tr style=\"text-align: right;\">\n",
       "      <th></th>\n",
       "      <th>x</th>\n",
       "      <th>y</th>\n",
       "      <th>z</th>\n",
       "      <th>Vx</th>\n",
       "      <th>Vy</th>\n",
       "      <th>Vz</th>\n",
       "    </tr>\n",
       "    <tr>\n",
       "      <th>id</th>\n",
       "      <th></th>\n",
       "      <th></th>\n",
       "      <th></th>\n",
       "      <th></th>\n",
       "      <th></th>\n",
       "      <th></th>\n",
       "    </tr>\n",
       "  </thead>\n",
       "  <tbody>\n",
       "    <tr>\n",
       "      <th>3927</th>\n",
       "      <td>-24791.149338</td>\n",
       "      <td>-10910.791621</td>\n",
       "      <td>6570.495423</td>\n",
       "      <td>2.614232</td>\n",
       "      <td>-1.303894</td>\n",
       "      <td>1.087104</td>\n",
       "    </tr>\n",
       "    <tr>\n",
       "      <th>3928</th>\n",
       "      <td>-21086.983936</td>\n",
       "      <td>-12384.575495</td>\n",
       "      <td>7839.995470</td>\n",
       "      <td>3.219101</td>\n",
       "      <td>-0.994535</td>\n",
       "      <td>0.895794</td>\n",
       "    </tr>\n",
       "    <tr>\n",
       "      <th>3929</th>\n",
       "      <td>-16579.792530</td>\n",
       "      <td>-13379.503655</td>\n",
       "      <td>8806.047260</td>\n",
       "      <td>3.877753</td>\n",
       "      <td>-0.539691</td>\n",
       "      <td>0.601842</td>\n",
       "    </tr>\n",
       "    <tr>\n",
       "      <th>3930</th>\n",
       "      <td>-11202.738191</td>\n",
       "      <td>-13656.146227</td>\n",
       "      <td>9298.539686</td>\n",
       "      <td>4.582746</td>\n",
       "      <td>0.157074</td>\n",
       "      <td>0.134846</td>\n",
       "    </tr>\n",
       "    <tr>\n",
       "      <th>3931</th>\n",
       "      <td>-4934.257986</td>\n",
       "      <td>-12796.478611</td>\n",
       "      <td>9015.246708</td>\n",
       "      <td>5.251415</td>\n",
       "      <td>1.293472</td>\n",
       "      <td>-0.653239</td>\n",
       "    </tr>\n",
       "  </tbody>\n",
       "</table>\n",
       "</div>"
      ],
      "text/plain": [
       "                 x             y            z        Vx        Vy        Vz\n",
       "id                                                                         \n",
       "3927 -24791.149338 -10910.791621  6570.495423  2.614232 -1.303894  1.087104\n",
       "3928 -21086.983936 -12384.575495  7839.995470  3.219101 -0.994535  0.895794\n",
       "3929 -16579.792530 -13379.503655  8806.047260  3.877753 -0.539691  0.601842\n",
       "3930 -11202.738191 -13656.146227  9298.539686  4.582746  0.157074  0.134846\n",
       "3931  -4934.257986 -12796.478611  9015.246708  5.251415  1.293472 -0.653239"
      ]
     },
     "execution_count": 84,
     "metadata": {},
     "output_type": "execute_result"
    }
   ],
   "source": [
    "ans_true.head()"
   ]
  },
  {
   "cell_type": "code",
   "execution_count": 85,
   "metadata": {},
   "outputs": [
    {
     "data": {
      "text/plain": [
       "x    -24791.149338\n",
       "y    -10910.791621\n",
       "z      6570.495423\n",
       "Vx        2.614232\n",
       "Vy       -1.303894\n",
       "Vz        1.087104\n",
       "Name: 3927, dtype: float64"
      ]
     },
     "execution_count": 85,
     "metadata": {},
     "output_type": "execute_result"
    }
   ],
   "source": [
    "ans_true.loc[3927]"
   ]
  },
  {
   "cell_type": "markdown",
   "metadata": {},
   "source": [
    "# Метрики для всех данных"
   ]
  },
  {
   "cell_type": "code",
   "execution_count": 86,
   "metadata": {},
   "outputs": [],
   "source": [
    "def smape(pred, ans):\n",
    "    smape = np.mean(np.abs(pred - ans) / (np.abs(pred) + np.abs(ans))) * 100\n",
    "#     return 100 - smape\n",
    "    return smape"
   ]
  },
  {
   "cell_type": "code",
   "execution_count": 89,
   "metadata": {},
   "outputs": [],
   "source": [
    "from numpy.linalg import norm\n",
    "def smape_new_vector_norm(pred, ans, av_score=True):\n",
    "    scores = []\n",
    "    if not av_score:\n",
    "        r_losses = v_losses = []\n",
    "    for sat_id in pd.unique(test[\"sat_id\"]):\n",
    "        idxs = (test[\"sat_id\"] == sat_id).values\n",
    "        p = pred[idxs]\n",
    "        a = ans[idxs]\n",
    "        loss = p - a\n",
    "        # coordinates\n",
    "        r_loss = norm(loss[:, :3], axis=1) / (norm(p[:, :3], axis=1) + norm(a[:, :3], axis=1))\n",
    "        r_loss = np.mean(r_loss)\n",
    "        # velocities\n",
    "        v_loss = norm(loss[:, 3:], axis=1) / (norm(p[:, 3:], axis=1) + norm(a[:, 3:], axis=1))     \n",
    "        v_loss = np.mean(v_loss)\n",
    "        # score\n",
    "        scores.append(r_loss + v_loss)\n",
    "        if not av_score:\n",
    "            r_losses.append(r_loss)            \n",
    "            v_losses.append(v_loss)\n",
    "    if av_score:\n",
    "        return np.mean(scores)\n",
    "    else:\n",
    "        return np.array(scores), np.array(r_losses), np.array(v_losses)"
   ]
  },
  {
   "cell_type": "code",
   "execution_count": 90,
   "metadata": {},
   "outputs": [
    {
     "name": "stdout",
     "output_type": "stream",
     "text": [
      "Team\n",
      "SMAPE: 10.281815562668708\n",
      "MSE: 649353031.9602685\n",
      "RMSE (СКО): 25482.40632201497\n",
      "new SMAPE: 0.08774738523961789\n",
      "\n",
      "Default (SGP4)\n",
      "SMAPE: 34.890318581695176\n",
      "MSE: 110471199.08459651\n",
      "RMSE (СКО): 10510.528011693634\n",
      "new SMAPE: 0.4874228984024747\n",
      "\n",
      "Improvement\n",
      "SMAPE: 70.531%\n",
      "MSE: -487.8%\n",
      "RMSE (СКО): -142.45%\n",
      "new SMAPE: 81.998%\n"
     ]
    }
   ],
   "source": [
    "smape_team = smape(ans_team.values, ans_true.values)\n",
    "mse_team = np.square(ans_team.values - ans_true.values).mean()\n",
    "rmse_team = np.square(ans_team.values - ans_true.values).mean() ** 0.5\n",
    "new_smape_team = smape_new_vector_norm(ans_team.values, ans_true.values)\n",
    "\n",
    "print(\"Team\")\n",
    "print(f\"SMAPE: {smape_team}\")\n",
    "print(f\"MSE: {mse_team}\")\n",
    "print(f\"RMSE (СКО): {rmse_team}\")\n",
    "print(f\"new SMAPE: {new_smape_team}\")\n",
    "\n",
    "smape_sub = smape(sub.values, ans_true.values)\n",
    "mse_sub = np.square(sub.values - ans_true.values).mean()\n",
    "rmse_sub = np.square(sub.values - ans_true.values).mean() ** 0.5\n",
    "new_smape_sub = smape_new_vector_norm(sub.values, ans_true.values)\n",
    "\n",
    "print(\"\\nDefault (SGP4)\")\n",
    "print(f\"SMAPE: {smape_sub}\")\n",
    "print(f\"MSE: {mse_sub}\")\n",
    "print(f\"RMSE (СКО): {rmse_sub}\")\n",
    "print(f\"new SMAPE: {new_smape_sub}\")\n",
    "\n",
    "def improvement(a, b):\n",
    "    return (a - b) / a * 100\n",
    "\n",
    "print(\"\\nImprovement\")\n",
    "print(f\"SMAPE: {improvement(smape_sub, smape_team):.5}%\")\n",
    "print(f\"MSE: {improvement(mse_sub, mse_team):.5}%\")\n",
    "print(f\"RMSE (СКО): {improvement(rmse_sub, rmse_team):.5}%\")\n",
    "print(f\"new SMAPE: {improvement(new_smape_sub, new_smape_team):.5}%\")"
   ]
  },
  {
   "cell_type": "code",
   "execution_count": 1,
   "metadata": {},
   "outputs": [],
   "source": [
    "def improvement(a, b):\n",
    "    return (a - b) / a * 100"
   ]
  },
  {
   "cell_type": "code",
   "execution_count": 94,
   "metadata": {},
   "outputs": [
    {
     "data": {
      "text/plain": [
       "10510.528011693634"
      ]
     },
     "execution_count": 94,
     "metadata": {},
     "output_type": "execute_result"
    }
   ],
   "source": [
    "((sub.values - ans_true.values) ** 2).mean() ** 0.5"
   ]
  },
  {
   "cell_type": "code",
   "execution_count": 2,
   "metadata": {},
   "outputs": [
    {
     "data": {
      "text/plain": [
       "-45.45454545454545"
      ]
     },
     "execution_count": 2,
     "metadata": {},
     "output_type": "execute_result"
    }
   ],
   "source": [
    "improvement(66, 96)"
   ]
  },
  {
   "cell_type": "code",
   "execution_count": null,
   "metadata": {},
   "outputs": [],
   "source": []
  },
  {
   "cell_type": "code",
   "execution_count": 61,
   "metadata": {},
   "outputs": [
    {
     "name": "stdout",
     "output_type": "stream",
     "text": [
      "SMAPE imp.: 339.34%\n",
      "RMSE (СКО) imp.: 41.246%\n",
      "new SMAPE imp.: 0.4874228984024747\n"
     ]
    }
   ],
   "source": [
    "print(f\"SMAPE imp.: {smape(sub.values, ans_true.values) / smape(ans_team.values, ans_true.values)*100:.5}%\")\n",
    "print(f\"RMSE (СКО) imp.: {(np.square(sub.values - ans_true.values).mean() ** 0.5 / np.square(ans_team.values - ans_true.values).mean() ** 0.5)*100:.5}%\")\n",
    "print(f\"new SMAPE imp.: {smape_new_vector_norm(sub.values, ans_true.values)}\")"
   ]
  },
  {
   "cell_type": "code",
   "execution_count": null,
   "metadata": {},
   "outputs": [],
   "source": [
    "test_data_full.drop(['epoch', 'sat_id'], axis=1)"
   ]
  },
  {
   "cell_type": "code",
   "execution_count": null,
   "metadata": {},
   "outputs": [],
   "source": []
  },
  {
   "cell_type": "code",
   "execution_count": null,
   "metadata": {},
   "outputs": [],
   "source": []
  },
  {
   "cell_type": "code",
   "execution_count": 35,
   "metadata": {},
   "outputs": [],
   "source": [
    "a = test_data_full.drop(['epoch', 'sat_id'], axis=1).values\n",
    "b = submission_true.values"
   ]
  },
  {
   "cell_type": "code",
   "execution_count": 36,
   "metadata": {},
   "outputs": [
    {
     "data": {
      "text/plain": [
       "array([[1.        , 1.        , 1.        , 0.14277411, 0.34391936,\n",
       "        0.79990897],\n",
       "       [1.        , 1.        , 1.        , 0.30092395, 1.        ,\n",
       "        0.5214157 ],\n",
       "       [1.        , 1.        , 0.9379371 , 0.49093286, 1.        ,\n",
       "        1.        ],\n",
       "       ...,\n",
       "       [       nan,        nan,        nan,        nan,        nan,\n",
       "               nan],\n",
       "       [       nan,        nan,        nan,        nan,        nan,\n",
       "               nan],\n",
       "       [       nan,        nan,        nan,        nan,        nan,\n",
       "               nan]])"
      ]
     },
     "execution_count": 36,
     "metadata": {},
     "output_type": "execute_result"
    }
   ],
   "source": [
    "np.abs(a - b) / (np.abs(a) + np.abs(b))"
   ]
  },
  {
   "cell_type": "code",
   "execution_count": 37,
   "metadata": {},
   "outputs": [
    {
     "data": {
      "text/plain": [
       "0"
      ]
     },
     "execution_count": 37,
     "metadata": {},
     "output_type": "execute_result"
    }
   ],
   "source": [
    "np.isnan(a).sum()"
   ]
  },
  {
   "cell_type": "code",
   "execution_count": 38,
   "metadata": {},
   "outputs": [
    {
     "data": {
      "text/plain": [
       "1484310"
      ]
     },
     "execution_count": 38,
     "metadata": {},
     "output_type": "execute_result"
    }
   ],
   "source": [
    "np.isnan(b).sum()"
   ]
  },
  {
   "cell_type": "code",
   "execution_count": 39,
   "metadata": {},
   "outputs": [
    {
     "data": {
      "text/plain": [
       "array([[ 1.14394917e+04,  3.36862633e+04, -4.31864618e+02,\n",
       "         3.25091251e+00, -1.41906149e+00,  9.01315980e-02],\n",
       "       [ 2.16829472e+04,  2.72107878e+04, -1.09041525e+02,\n",
       "         2.72844375e+00, -2.37517892e+00,  9.85853068e-02],\n",
       "       [ 2.95863807e+04,  1.78147118e+04,  2.25258953e+02,\n",
       "         1.88445483e+00, -3.11537702e+00,  9.66560640e-02],\n",
       "       ...,\n",
       "       [            nan,             nan,             nan,\n",
       "                    nan,             nan,             nan],\n",
       "       [            nan,             nan,             nan,\n",
       "                    nan,             nan,             nan],\n",
       "       [            nan,             nan,             nan,\n",
       "                    nan,             nan,             nan]])"
      ]
     },
     "execution_count": 39,
     "metadata": {},
     "output_type": "execute_result"
    }
   ],
   "source": [
    "b"
   ]
  },
  {
   "cell_type": "code",
   "execution_count": null,
   "metadata": {},
   "outputs": [],
   "source": []
  }
 ],
 "metadata": {
  "kernelspec": {
   "display_name": "Python 3",
   "language": "python",
   "name": "python3"
  },
  "language_info": {
   "codemirror_mode": {
    "name": "ipython",
    "version": 3
   },
   "file_extension": ".py",
   "mimetype": "text/x-python",
   "name": "python",
   "nbconvert_exporter": "python",
   "pygments_lexer": "ipython3",
   "version": "3.7.3"
  }
 },
 "nbformat": 4,
 "nbformat_minor": 2
}
