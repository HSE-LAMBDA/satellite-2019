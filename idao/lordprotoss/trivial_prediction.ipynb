{
 "cells": [
  {
   "cell_type": "markdown",
   "metadata": {},
   "source": [
    "Данное решение было оценено в 65.1. Оно представляет из себя тривиальное предсказание."
   ]
  },
  {
   "cell_type": "code",
   "execution_count": 1,
   "metadata": {},
   "outputs": [
    {
     "name": "stderr",
     "output_type": "stream",
     "text": [
      "D:\\Anaconda3\\envs\\Standard\\lib\\site-packages\\tqdm\\std.py:654: FutureWarning: The Panel class is removed from pandas. Accessing it from the top-level namespace will also be removed in the next version\n",
      "  from pandas import Panel\n"
     ]
    }
   ],
   "source": [
    "from coosys import cartesian_to_kepler as ctk, cartesian_to_quaternion as ctq\n",
    "from coosys import kepler_to_cartesian as ktc, quaternion_to_cartesian as qtc\n",
    "import pandas as pd\n",
    "import numpy as np\n",
    "from sklearn.linear_model import LinearRegression as LR\n",
    "from sklearn.preprocessing import PolynomialFeatures as PF\n",
    "from tqdm.auto import tqdm\n",
    "tqdm.pandas()\n",
    "\n",
    "from matplotlib import pyplot as plt\n",
    "%matplotlib inline"
   ]
  },
  {
   "cell_type": "code",
   "execution_count": 2,
   "metadata": {},
   "outputs": [],
   "source": [
    "base = 1.3885 * 10**9\n",
    "\n",
    "train_data = pd.read_csv(\"IDAO 2020/train.csv\", encoding=\"utf8\")\n",
    "train_data[\"epoch\"] = pd.to_datetime(train_data[\"epoch\"]).apply(pd.Timestamp.timestamp) - base\n",
    "\n",
    "test_data = pd.read_csv(\"IDAO 2020/Track 1/test.csv\", encoding=\"utf8\")\n",
    "test_data[\"epoch\"] = pd.to_datetime(test_data[\"epoch\"]).apply(pd.Timestamp.timestamp) - base"
   ]
  },
  {
   "cell_type": "code",
   "execution_count": 3,
   "metadata": {},
   "outputs": [],
   "source": [
    "sats_to_predict = set(test_data[\"sat_id\"].unique())"
   ]
  },
  {
   "cell_type": "code",
   "execution_count": 4,
   "metadata": {},
   "outputs": [],
   "source": [
    "result = test_data[[\"id\", \"x_sim\", \"y_sim\", \"z_sim\", \"Vx_sim\", \"Vy_sim\", \"Vz_sim\"]].rename(columns={\n",
    "    \"x_sim\": \"x\",\n",
    "    \"y_sim\": \"y\",\n",
    "    \"z_sim\": \"z\",\n",
    "    \"Vx_sim\": \"Vx\",\n",
    "    \"Vy_sim\": \"Vy\",\n",
    "    \"Vz_sim\": \"Vz\",\n",
    "})"
   ]
  },
  {
   "cell_type": "code",
   "execution_count": 5,
   "metadata": {},
   "outputs": [],
   "source": [
    "result.to_csv(\"submission.csv\", index=False)"
   ]
  },
  {
   "cell_type": "code",
   "execution_count": null,
   "metadata": {},
   "outputs": [],
   "source": []
  }
 ],
 "metadata": {
  "kernelspec": {
   "display_name": "Python 3",
   "language": "python",
   "name": "python3"
  },
  "language_info": {
   "codemirror_mode": {
    "name": "ipython",
    "version": 3
   },
   "file_extension": ".py",
   "mimetype": "text/x-python",
   "name": "python",
   "nbconvert_exporter": "python",
   "pygments_lexer": "ipython3",
   "version": "3.7.5"
  }
 },
 "nbformat": 4,
 "nbformat_minor": 2
}
