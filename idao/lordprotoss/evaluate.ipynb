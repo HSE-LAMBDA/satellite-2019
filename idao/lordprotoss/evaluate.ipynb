{
 "cells": [
  {
   "cell_type": "code",
   "execution_count": 1,
   "metadata": {},
   "outputs": [
    {
     "name": "stderr",
     "output_type": "stream",
     "text": [
      "D:\\Anaconda3\\envs\\Standard\\lib\\site-packages\\tqdm\\std.py:654: FutureWarning: The Panel class is removed from pandas. Accessing it from the top-level namespace will also be removed in the next version\n",
      "  from pandas import Panel\n"
     ]
    }
   ],
   "source": [
    "from coosys import cartesian_to_kepler as ctk, cartesian_to_quaternion as ctq\n",
    "from coosys import kepler_to_cartesian as ktc, quaternion_to_cartesian as qtc\n",
    "import pandas as pd\n",
    "import numpy as np\n",
    "from sklearn.linear_model import LinearRegression as LR\n",
    "from sklearn.preprocessing import PolynomialFeatures as PF\n",
    "from sklearn.model_selection import train_test_split as tts\n",
    "from scipy.interpolate import UnivariateSpline as US\n",
    "from scipy import signal\n",
    "import spectrum\n",
    "from tqdm.auto import tqdm\n",
    "tqdm.pandas()\n",
    "\n",
    "from matplotlib import pyplot as plt\n",
    "%matplotlib inline\n",
    "\n",
    "import tensorflow as tf\n",
    "from tensorflow.keras import models as M\n",
    "from tensorflow.keras import layers as L\n",
    "from tensorflow.keras import backend as K"
   ]
  },
  {
   "cell_type": "code",
   "execution_count": 2,
   "metadata": {},
   "outputs": [],
   "source": [
    "submission = pd.read_csv(\"submission.csv\", encoding=\"utf8\")\n",
    "reference = pd.read_csv(\"idao_ans/tr1/ans.csv\", encoding=\"utf8\")\n",
    "default = pd.read_csv(\"IDAO 2020/Track 1/test.csv\", encoding=\"utf8\")[\n",
    "    [\"id\", \"x_sim\", \"y_sim\", \"z_sim\", \"Vx_sim\", \"Vy_sim\", \"Vz_sim\"]\n",
    "].rename(columns={\n",
    "    \"x_sim\": \"x\",\n",
    "    \"y_sim\": \"y\",\n",
    "    \"z_sim\": \"z\",\n",
    "    \"Vx_sim\": \"Vx\",\n",
    "    \"Vy_sim\": \"Vy\",\n",
    "    \"Vz_sim\": \"Vz\",\n",
    "})"
   ]
  },
  {
   "cell_type": "code",
   "execution_count": 3,
   "metadata": {},
   "outputs": [],
   "source": [
    "def smape(y_true, y_pred):\n",
    "    return 100 * (1 - np.mean(np.abs(y_true - y_pred) / (np.abs(y_true) + np.abs(y_pred))))\n",
    "\n",
    "def data_smape(reference, submission):\n",
    "    columns = [\"x\", \"y\", \"z\", \"Vx\", \"Vy\", \"Vz\"]\n",
    "    result = 0.\n",
    "    N = submission.shape[0]\n",
    "    for (_, row1), (_, row2) in tqdm(zip(reference.iterrows(), submission.iterrows()), total=N):\n",
    "        result += smape(row1[columns].to_numpy(), row2[columns].to_numpy())\n",
    "    return result / N"
   ]
  },
  {
   "cell_type": "code",
   "execution_count": 4,
   "metadata": {},
   "outputs": [
    {
     "data": {
      "application/vnd.jupyter.widget-view+json": {
       "model_id": "0fc84c862e374b37aed9d687bbd8a89c",
       "version_major": 2,
       "version_minor": 0
      },
      "text/plain": [
       "HBox(children=(FloatProgress(value=0.0, max=284071.0), HTML(value='')))"
      ]
     },
     "metadata": {},
     "output_type": "display_data"
    },
    {
     "name": "stdout",
     "output_type": "stream",
     "text": [
      "\n"
     ]
    },
    {
     "data": {
      "application/vnd.jupyter.widget-view+json": {
       "model_id": "8c65928bc511497bbcd093e55cc55254",
       "version_major": 2,
       "version_minor": 0
      },
      "text/plain": [
       "HBox(children=(FloatProgress(value=0.0, max=284071.0), HTML(value='')))"
      ]
     },
     "metadata": {},
     "output_type": "display_data"
    },
    {
     "name": "stdout",
     "output_type": "stream",
     "text": [
      "\n",
      "Result: 65.10968141830337 smape\n",
      "Default: 65.10968141830377 smape\n"
     ]
    }
   ],
   "source": [
    "result = data_smape(reference, submission)\n",
    "default_result = data_smape(reference, default)\n",
    "print(\"Result: {} smape\".format(result))\n",
    "print(\"Default: {} smape\".format(default_result))"
   ]
  },
  {
   "cell_type": "code",
   "execution_count": null,
   "metadata": {},
   "outputs": [],
   "source": []
  }
 ],
 "metadata": {
  "kernelspec": {
   "display_name": "Python 3",
   "language": "python",
   "name": "python3"
  },
  "language_info": {
   "codemirror_mode": {
    "name": "ipython",
    "version": 3
   },
   "file_extension": ".py",
   "mimetype": "text/x-python",
   "name": "python",
   "nbconvert_exporter": "python",
   "pygments_lexer": "ipython3",
   "version": "3.7.5"
  }
 },
 "nbformat": 4,
 "nbformat_minor": 4
}
