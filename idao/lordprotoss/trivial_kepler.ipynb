{
 "cells": [
  {
   "cell_type": "markdown",
   "metadata": {},
   "source": [
    "Данное решение было оценено в 65.1. Оно представляет из себя тривиальное предсказание с проверкой преобразования в элементы орбиты."
   ]
  },
  {
   "cell_type": "code",
   "execution_count": 1,
   "metadata": {},
   "outputs": [
    {
     "name": "stderr",
     "output_type": "stream",
     "text": [
      "D:\\Anaconda3\\envs\\Standard\\lib\\site-packages\\tqdm\\std.py:654: FutureWarning: The Panel class is removed from pandas. Accessing it from the top-level namespace will also be removed in the next version\n",
      "  from pandas import Panel\n"
     ]
    }
   ],
   "source": [
    "from coosys import cartesian_to_kepler as ctk, cartesian_to_quaternion as ctq\n",
    "from coosys import kepler_to_cartesian as ktc, quaternion_to_cartesian as qtc\n",
    "import pandas as pd\n",
    "import numpy as np\n",
    "from sklearn.linear_model import LinearRegression as LR\n",
    "from sklearn.preprocessing import PolynomialFeatures as PF\n",
    "from tqdm.auto import tqdm\n",
    "tqdm.pandas()\n",
    "\n",
    "from matplotlib import pyplot as plt\n",
    "%matplotlib inline"
   ]
  },
  {
   "cell_type": "code",
   "execution_count": 2,
   "metadata": {},
   "outputs": [],
   "source": [
    "base = 1.3885 * 10**9\n",
    "\n",
    "train_data = pd.read_csv(\"IDAO 2020/train.csv\", encoding=\"utf8\")\n",
    "train_data[\"epoch\"] = pd.to_datetime(train_data[\"epoch\"]).apply(pd.Timestamp.timestamp) - base\n",
    "\n",
    "test_data = pd.read_csv(\"IDAO 2020/Track 1/test.csv\", encoding=\"utf8\")\n",
    "test_data[\"epoch\"] = pd.to_datetime(test_data[\"epoch\"]).apply(pd.Timestamp.timestamp) - base"
   ]
  },
  {
   "cell_type": "code",
   "execution_count": 3,
   "metadata": {},
   "outputs": [],
   "source": [
    "sats_to_predict = set(test_data[\"sat_id\"].unique())"
   ]
  },
  {
   "cell_type": "code",
   "execution_count": 4,
   "metadata": {},
   "outputs": [],
   "source": [
    "result = test_data[[\"id\", \"x_sim\", \"y_sim\", \"z_sim\", \"Vx_sim\", \"Vy_sim\", \"Vz_sim\"]].rename(columns={\n",
    "    \"x_sim\": \"x\",\n",
    "    \"y_sim\": \"y\",\n",
    "    \"z_sim\": \"z\",\n",
    "    \"Vx_sim\": \"Vx\",\n",
    "    \"Vy_sim\": \"Vy\",\n",
    "    \"Vz_sim\": \"Vz\",\n",
    "})"
   ]
  },
  {
   "cell_type": "code",
   "execution_count": 5,
   "metadata": {},
   "outputs": [],
   "source": [
    "gamma_km = 398603\n",
    "\n",
    "def transform_row(row, func):\n",
    "    return func(row.values)\n",
    "\n",
    "def transform_dataset(data, func=lambda data: ctk(data, gamma_km), \n",
    "                      columns_from=(\"x\", \"y\", \"z\", \"Vx\", \"Vy\", \"Vz\"), \n",
    "                      columns_to=(\"a\", \"e\", \"inclination\", \"longitude\", \"argument\", \"anomaly\")):\n",
    "    new_data = data.loc[:, list(columns_from)].progress_apply(transform_row, axis=1, result_type=\"expand\", args=(func, ))\n",
    "    new_data.columns = columns_to\n",
    "    return data.drop(list(columns_from), axis=1).join(new_data)"
   ]
  },
  {
   "cell_type": "code",
   "execution_count": 6,
   "metadata": {},
   "outputs": [
    {
     "data": {
      "application/vnd.jupyter.widget-view+json": {
       "model_id": "f084f4961c014f2d89579cd40661ee73",
       "version_major": 2,
       "version_minor": 0
      },
      "text/plain": [
       "HBox(children=(FloatProgress(value=0.0, max=284071.0), HTML(value='')))"
      ]
     },
     "metadata": {},
     "output_type": "display_data"
    },
    {
     "name": "stdout",
     "output_type": "stream",
     "text": [
      "\n"
     ]
    },
    {
     "data": {
      "application/vnd.jupyter.widget-view+json": {
       "model_id": "3d08f42ed4c54e5691ce8994a0baaac6",
       "version_major": 2,
       "version_minor": 0
      },
      "text/plain": [
       "HBox(children=(FloatProgress(value=0.0, max=284071.0), HTML(value='')))"
      ]
     },
     "metadata": {},
     "output_type": "display_data"
    },
    {
     "name": "stdout",
     "output_type": "stream",
     "text": [
      "\n"
     ]
    }
   ],
   "source": [
    "result = transform_dataset(result, lambda data: ctk(data, gamma_km),\n",
    "                           columns_from=(\"x\", \"y\", \"z\", \"Vx\", \"Vy\", \"Vz\"), \n",
    "                           columns_to=(\"a\", \"e\", \"inclination\", \"longitude\", \"argument\", \"anomaly\"))\n",
    "result = transform_dataset(result, lambda data: ktc(data, gamma_km),\n",
    "                           columns_from=(\"a\", \"e\", \"inclination\", \"longitude\", \"argument\", \"anomaly\"), \n",
    "                           columns_to=(\"x\", \"y\", \"z\", \"Vx\", \"Vy\", \"Vz\"))"
   ]
  },
  {
   "cell_type": "code",
   "execution_count": 7,
   "metadata": {},
   "outputs": [],
   "source": [
    "result.to_csv(\"submission.csv\", index=False)"
   ]
  },
  {
   "cell_type": "code",
   "execution_count": null,
   "metadata": {},
   "outputs": [],
   "source": []
  }
 ],
 "metadata": {
  "kernelspec": {
   "display_name": "Python 3",
   "language": "python",
   "name": "python3"
  },
  "language_info": {
   "codemirror_mode": {
    "name": "ipython",
    "version": 3
   },
   "file_extension": ".py",
   "mimetype": "text/x-python",
   "name": "python",
   "nbconvert_exporter": "python",
   "pygments_lexer": "ipython3",
   "version": "3.7.5"
  }
 },
 "nbformat": 4,
 "nbformat_minor": 4
}
