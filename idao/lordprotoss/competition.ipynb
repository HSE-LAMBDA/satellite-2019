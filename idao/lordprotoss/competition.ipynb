{
 "cells": [
  {
   "cell_type": "markdown",
   "metadata": {},
   "source": [
    "Got 31.05 score. Used linear models with time as a feature to predict changes in quaternion-based coordinates (considering that \"e\" is supposed to be from 0 to 1; if prediction is incorrect, saved the original value of e_sim)."
   ]
  },
  {
   "cell_type": "code",
   "execution_count": 1,
   "metadata": {},
   "outputs": [
    {
     "name": "stderr",
     "output_type": "stream",
     "text": [
      "D:\\Anaconda3\\envs\\Standard\\lib\\site-packages\\tqdm\\std.py:654: FutureWarning: The Panel class is removed from pandas. Accessing it from the top-level namespace will also be removed in the next version\n",
      "  from pandas import Panel\n"
     ]
    }
   ],
   "source": [
    "from coosys import cartesian_to_kepler as ctk, cartesian_to_quaternion as ctq\n",
    "from coosys import kepler_to_cartesian as ktc, quaternion_to_cartesian as qtc\n",
    "import pandas as pd\n",
    "import numpy as np\n",
    "from sklearn.linear_model import LinearRegression as LR\n",
    "from sklearn.preprocessing import PolynomialFeatures as PF\n",
    "from tqdm.auto import tqdm\n",
    "tqdm.pandas()\n",
    "\n",
    "from matplotlib import pyplot as plt\n",
    "%matplotlib inline"
   ]
  },
  {
   "cell_type": "code",
   "execution_count": 2,
   "metadata": {},
   "outputs": [],
   "source": [
    "base = 1.3885 * 10**9\n",
    "\n",
    "train_data = pd.read_csv(\"IDAO 2020/train.csv\", encoding=\"utf8\")\n",
    "train_data[\"epoch\"] = pd.to_datetime(train_data[\"epoch\"]).apply(pd.Timestamp.timestamp) - base\n",
    "\n",
    "test_data = pd.read_csv(\"IDAO 2020/Track 1/test.csv\", encoding=\"utf8\")\n",
    "test_data[\"epoch\"] = pd.to_datetime(test_data[\"epoch\"]).apply(pd.Timestamp.timestamp) - base"
   ]
  },
  {
   "cell_type": "code",
   "execution_count": 3,
   "metadata": {},
   "outputs": [],
   "source": [
    "gamma_km = 398603\n",
    "\n",
    "def transform_row(row, func):\n",
    "    return func(row.values)\n",
    "\n",
    "def transform_dataset(data, func=lambda data: ctk(data, gamma_km), \n",
    "                      columns_from=(\"x\", \"y\", \"z\", \"Vx\", \"Vy\", \"Vz\"), \n",
    "                      columns_to=(\"a\", \"e\", \"inclination\", \"longitude\", \"argument\", \"anomaly\")):\n",
    "    new_data = data.loc[:, list(columns_from)].progress_apply(transform_row, axis=1, result_type=\"expand\", args=(func, ))\n",
    "    new_data.columns = columns_to\n",
    "    return data.drop(list(columns_from), axis=1).join(new_data)"
   ]
  },
  {
   "cell_type": "code",
   "execution_count": 4,
   "metadata": {},
   "outputs": [
    {
     "data": {
      "application/vnd.jupyter.widget-view+json": {
       "model_id": "53cd5efbcefd4352832c4c4180acba9f",
       "version_major": 2,
       "version_minor": 0
      },
      "text/plain": [
       "HBox(children=(FloatProgress(value=0.0, max=649912.0), HTML(value='')))"
      ]
     },
     "metadata": {},
     "output_type": "display_data"
    },
    {
     "name": "stdout",
     "output_type": "stream",
     "text": [
      "\n"
     ]
    },
    {
     "data": {
      "application/vnd.jupyter.widget-view+json": {
       "model_id": "df5aefa6bf684817b3b46a2c81cbf615",
       "version_major": 2,
       "version_minor": 0
      },
      "text/plain": [
       "HBox(children=(FloatProgress(value=0.0, max=649912.0), HTML(value='')))"
      ]
     },
     "metadata": {},
     "output_type": "display_data"
    },
    {
     "name": "stdout",
     "output_type": "stream",
     "text": [
      "\n"
     ]
    }
   ],
   "source": [
    "train_quaternion = transform_dataset(train_data, func=lambda data: ctq(data, gamma_km),\n",
    "                                     columns_from=(\"x\", \"y\", \"z\", \"Vx\", \"Vy\", \"Vz\"),\n",
    "                                     columns_to=((\"a\", \"e\", \"anomaly\", \"q1\", \"q2\", \"q3\", \"q4\")))\n",
    "train_quaternion = transform_dataset(train_quaternion, func=lambda data: ctq(data, gamma_km), \n",
    "                                     columns_from=(\"x_sim\", \"y_sim\", \"z_sim\", \"Vx_sim\", \"Vy_sim\", \"Vz_sim\"),\n",
    "                                     columns_to=(\"a_sim\", \"e_sim\", \"anomaly_sim\", \"q1_sim\", \"q2_sim\", \"q3_sim\", \"q4_sim\"))"
   ]
  },
  {
   "cell_type": "code",
   "execution_count": 5,
   "metadata": {},
   "outputs": [],
   "source": [
    "def phase_regression(phases):\n",
    "    periods = 0\n",
    "    new_phases = phases.copy()\n",
    "    for i in range(1, phases.size):\n",
    "        if phases[i] < phases[i - 1]:\n",
    "            periods += 1\n",
    "        new_phases[i] += 2 * np.pi * periods\n",
    "    return new_phases\n",
    "\n",
    "def phase_degression(phases):\n",
    "    new_phases = np.zeros_like(phases)\n",
    "    for i in range(phases.size):\n",
    "        new_phases[i] = phases[i] - 2 * np.pi * np.trunc(phases[i] / 2 / np.pi) \n",
    "    return new_phases"
   ]
  },
  {
   "cell_type": "code",
   "execution_count": 6,
   "metadata": {},
   "outputs": [],
   "source": [
    "sats_to_predict = set(test_data[\"sat_id\"].unique())"
   ]
  },
  {
   "cell_type": "code",
   "execution_count": 7,
   "metadata": {},
   "outputs": [
    {
     "data": {
      "application/vnd.jupyter.widget-view+json": {
       "model_id": "42552cd6a6e841b195617a2b2dc933a0",
       "version_major": 2,
       "version_minor": 0
      },
      "text/plain": [
       "HBox(children=(FloatProgress(value=0.0, max=284071.0), HTML(value='')))"
      ]
     },
     "metadata": {},
     "output_type": "display_data"
    },
    {
     "name": "stdout",
     "output_type": "stream",
     "text": [
      "\n"
     ]
    }
   ],
   "source": [
    "test_quaternion = transform_dataset(test_data, func=lambda data: ctq(data, gamma_km), \n",
    "                                    columns_from=(\"x_sim\", \"y_sim\", \"z_sim\", \"Vx_sim\", \"Vy_sim\", \"Vz_sim\"),\n",
    "                                    columns_to=(\"a_sim\", \"e_sim\", \"anomaly_sim\", \"q1_sim\", \"q2_sim\", \"q3_sim\", \"q4_sim\"))"
   ]
  },
  {
   "cell_type": "code",
   "execution_count": 8,
   "metadata": {},
   "outputs": [],
   "source": [
    "def predict_one(train_quaternion, test_quaternion, sat_id, degree=1):\n",
    "    #data preparation\n",
    "    train_sat = train_quaternion[train_quaternion.sat_id == sat_id]\n",
    "    test_sat = test_quaternion[test_quaternion.sat_id == sat_id]\n",
    "    result = pd.DataFrame(columns=[\"id\", \"a\", \"e\", \"anomaly\", \"q1\", \"q2\", \"q3\", \"q4\"])\n",
    "    result[\"id\"] = test_sat[\"id\"]\n",
    "    train_t = train_sat[\"epoch\"].to_numpy().reshape(-1, 1)\n",
    "    train_features = PF(degree, include_bias=False).fit_transform(train_t)\n",
    "    test_t = test_sat[\"epoch\"].to_numpy().reshape(-1, 1)\n",
    "    test_features = PF(degree, include_bias=False).fit_transform(test_t)\n",
    "    \n",
    "    #main prediction\n",
    "    for coordinate in [\"a\", \"e\", \"q1\", \"q2\", \"q3\", \"q4\"]:\n",
    "        train_diff = train_sat[coordinate] - train_sat[coordinate + \"_sim\"]\n",
    "        model = LR().fit(train_features, train_diff)\n",
    "        result[coordinate] = test_sat[coordinate + \"_sim\"] + model.predict(test_features)\n",
    "        \n",
    "    #anomaly prediction considers its periodicity\n",
    "    train_diff = phase_regression(train_sat[\"anomaly\"].to_numpy()) - phase_regression(train_sat[\"anomaly_sim\"].to_numpy())\n",
    "    model = LR().fit(train_features, train_diff)\n",
    "    result[\"anomaly\"] = phase_degression(test_sat[\"anomaly_sim\"].to_numpy() + model.predict(test_features))\n",
    "    \n",
    "    #cheking correctness of e prediction\n",
    "    if np.any(result[\"e\"].to_numpy() >= 1.) or np.any(result[\"e\"].to_numpy() < 0.):\n",
    "        result[\"e\"] = test_sat[\"e_sim\"]\n",
    "\n",
    "    return result"
   ]
  },
  {
   "cell_type": "code",
   "execution_count": 9,
   "metadata": {},
   "outputs": [
    {
     "data": {
      "application/vnd.jupyter.widget-view+json": {
       "model_id": "b9a11ecd359e4291992d980cd37c88f0",
       "version_major": 2,
       "version_minor": 0
      },
      "text/plain": [
       "HBox(children=(FloatProgress(value=0.0, max=300.0), HTML(value='')))"
      ]
     },
     "metadata": {},
     "output_type": "display_data"
    },
    {
     "name": "stdout",
     "output_type": "stream",
     "text": [
      "\n"
     ]
    }
   ],
   "source": [
    "results = []\n",
    "\n",
    "for sat_id in tqdm(sats_to_predict):\n",
    "    results.append(predict_one(train_quaternion, test_quaternion, sat_id))\n",
    "    \n",
    "result_quaternion = pd.concat(results)"
   ]
  },
  {
   "cell_type": "code",
   "execution_count": 10,
   "metadata": {},
   "outputs": [
    {
     "data": {
      "application/vnd.jupyter.widget-view+json": {
       "model_id": "464a5c08b0ae4539b5516f1e4eecbc73",
       "version_major": 2,
       "version_minor": 0
      },
      "text/plain": [
       "HBox(children=(FloatProgress(value=0.0, max=284071.0), HTML(value='')))"
      ]
     },
     "metadata": {},
     "output_type": "display_data"
    },
    {
     "name": "stdout",
     "output_type": "stream",
     "text": [
      "\n"
     ]
    }
   ],
   "source": [
    "result_cartesian = transform_dataset(result_quaternion, func=lambda data: qtc(data, gamma_km), \n",
    "                                     columns_from=(\"a\", \"e\", \"anomaly\", \"q1\", \"q2\", \"q3\", \"q4\"),\n",
    "                                     columns_to=(\"x\", \"y\", \"z\", \"Vx\", \"Vy\", \"Vz\"))"
   ]
  },
  {
   "cell_type": "code",
   "execution_count": 11,
   "metadata": {},
   "outputs": [],
   "source": [
    "result_cartesian.to_csv(\"submission.csv\", index=False)"
   ]
  },
  {
   "cell_type": "code",
   "execution_count": null,
   "metadata": {},
   "outputs": [],
   "source": []
  }
 ],
 "metadata": {
  "kernelspec": {
   "display_name": "Python 3",
   "language": "python",
   "name": "python3"
  },
  "language_info": {
   "codemirror_mode": {
    "name": "ipython",
    "version": 3
   },
   "file_extension": ".py",
   "mimetype": "text/x-python",
   "name": "python",
   "nbconvert_exporter": "python",
   "pygments_lexer": "ipython3",
   "version": "3.7.5"
  }
 },
 "nbformat": 4,
 "nbformat_minor": 2
}
