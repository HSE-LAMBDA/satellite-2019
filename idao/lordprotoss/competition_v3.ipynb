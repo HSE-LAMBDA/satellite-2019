{
 "cells": [
  {
   "cell_type": "markdown",
   "metadata": {},
   "source": [
    "Данное решение было оценено в 84.8. В нем устранялась разница между частотами истинного и приближенного предсказаний за счет использования интерполяции, а также предсказывался дрейф."
   ]
  },
  {
   "cell_type": "code",
   "execution_count": 1,
   "metadata": {},
   "outputs": [
    {
     "name": "stderr",
     "output_type": "stream",
     "text": [
      "D:\\Anaconda3\\envs\\Standard\\lib\\site-packages\\tqdm\\std.py:654: FutureWarning: The Panel class is removed from pandas. Accessing it from the top-level namespace will also be removed in the next version\n",
      "  from pandas import Panel\n"
     ]
    }
   ],
   "source": [
    "from coosys import cartesian_to_kepler as ctk, cartesian_to_quaternion as ctq\n",
    "from coosys import kepler_to_cartesian as ktc, quaternion_to_cartesian as qtc\n",
    "import pandas as pd\n",
    "import numpy as np\n",
    "from sklearn.linear_model import LinearRegression as LR\n",
    "from sklearn.preprocessing import PolynomialFeatures as PF\n",
    "from sklearn.model_selection import train_test_split as tts\n",
    "from scipy.interpolate import UnivariateSpline as US\n",
    "from scipy import signal\n",
    "import spectrum\n",
    "from tqdm.auto import tqdm\n",
    "tqdm.pandas()\n",
    "\n",
    "from matplotlib import pyplot as plt\n",
    "%matplotlib inline"
   ]
  },
  {
   "cell_type": "code",
   "execution_count": 2,
   "metadata": {},
   "outputs": [],
   "source": [
    "base = 1.3885 * 10**9\n",
    "\n",
    "train_data = pd.read_csv(\"IDAO 2020/train.csv\", encoding=\"utf8\")\n",
    "train_data[\"epoch\"] = pd.to_datetime(train_data[\"epoch\"]).apply(pd.Timestamp.timestamp) - base\n",
    "train_data = train_data.sort_values(by=\"epoch\")\n",
    "\n",
    "test_data = pd.read_csv(\"IDAO 2020/Track 1/test.csv\", encoding=\"utf8\")\n",
    "test_data[\"epoch\"] = pd.to_datetime(test_data[\"epoch\"]).apply(pd.Timestamp.timestamp) - base\n",
    "test_data = test_data.sort_values(by=\"epoch\")"
   ]
  },
  {
   "cell_type": "code",
   "execution_count": 3,
   "metadata": {},
   "outputs": [],
   "source": [
    "from scipy.signal import argrelmax, argrelmin\n",
    "\n",
    "def evaluate_T(t, x):\n",
    "    return np.mean([np.mean(np.diff(t[argrelmin(x)])), np.mean(np.diff(t[argrelmax(x)]))])\n",
    "\n",
    "def evaluate_T_all(t, x):\n",
    "    return np.mean([evaluate_T(t, x[:, i]) for i in range(x.shape[1])])\n",
    "\n",
    "def prolong_sim(epoch, sim, T_sim, T_true, eps=0.1):\n",
    "    prolong_coef = T_sim / T_true + eps\n",
    "    \n",
    "    if prolong_coef < 1.:\n",
    "        return US(epoch, sim, k=1, s=0.)\n",
    "    \n",
    "    else:\n",
    "        future_periods = int((epoch[-1] - epoch[0]) / T_sim * (prolong_coef - 1.)) + 1\n",
    "        \n",
    "        full_epoch = np.zeros(epoch.size + future_periods * 24)\n",
    "        full_epoch[:epoch.size] = epoch[:]\n",
    "        \n",
    "        full_sim = np.zeros(sim.size + future_periods * 24)\n",
    "        full_sim[:sim.size] = sim[:]\n",
    "        \n",
    "        for i in range(24):\n",
    "            block_epoch = epoch[i::24]\n",
    "            block_sim = sim[i::24]\n",
    "            \n",
    "            block_future_epoch = (np.arange(future_periods) + 1) * T_sim + block_epoch[-1]\n",
    "            \n",
    "            base = LR().fit(block_epoch.reshape(-1, 1), block_sim)\n",
    "            block_predict = base.predict(block_future_epoch.reshape(-1, 1))\n",
    "            \n",
    "            full_epoch[i::24][-future_periods:] = block_future_epoch[:]\n",
    "            full_sim[i::24][-future_periods:] = block_predict[:]\n",
    "            \n",
    "        return US(full_epoch, full_sim, k=1, s=0.)\n",
    "    \n",
    "    \n",
    "def prolong_sim_all(epoch, sim, T_sim, T_true, eps=0.1):\n",
    "    return [prolong_sim(epoch, sim[:, i], T_sim, T_true, eps=0.1) for i in range(sim.shape[1])]"
   ]
  },
  {
   "cell_type": "code",
   "execution_count": 4,
   "metadata": {},
   "outputs": [],
   "source": [
    "def predict_one(train, test, sat_id):\n",
    "    train_sat = train[train.sat_id == sat_id]\n",
    "    test_sat = test[test.sat_id == sat_id]\n",
    "    result = pd.DataFrame(columns=[\"id\", \"x\", \"y\", \"z\", \"Vx\", \"Vy\", \"Vz\"])\n",
    "    result[\"id\"] = test_sat[\"id\"]\n",
    "    \n",
    "    train_sim = train_sat[[\"x_sim\", \"y_sim\", \"z_sim\", \"Vx_sim\", \"Vy_sim\", \"Vz_sim\"]].to_numpy()\n",
    "    test_sim = test_sat[[\"x_sim\", \"y_sim\", \"z_sim\", \"Vx_sim\", \"Vy_sim\", \"Vz_sim\"]].to_numpy()\n",
    "    train_epoch = train_sat[\"epoch\"].to_numpy()\n",
    "    test_epoch = test_sat[\"epoch\"].to_numpy()\n",
    "    \n",
    "    begin = np.min(train_epoch)\n",
    "    \n",
    "    train_epoch -= begin\n",
    "    test_epoch -= begin\n",
    "    \n",
    "    all_sim = np.concatenate([train_sim, test_sim], axis=0)\n",
    "    all_epoch = np.concatenate([train_epoch, test_epoch], axis=0)\n",
    "    \n",
    "    train_true = train_sat[[\"x\", \"y\", \"z\", \"Vx\", \"Vy\", \"Vz\"]].to_numpy()\n",
    "    \n",
    "    T_sim = evaluate_T_all(all_epoch, all_sim)\n",
    "    T_true = evaluate_T_all(train_epoch, train_true)\n",
    "    \n",
    "    koef = T_true / T_sim\n",
    "    \n",
    "    train_splines = prolong_sim_all(all_epoch, all_sim, T_sim, T_true)\n",
    "    \n",
    "    fixed_sim = np.zeros_like(all_sim)\n",
    "    for i in range(fixed_sim.shape[0]):\n",
    "        for j in range(fixed_sim.shape[1]):\n",
    "            fixed_sim[i, j] = train_splines[j](all_epoch[i] / koef)\n",
    "            \n",
    "            \n",
    "    base = LR().fit(train_epoch.reshape(-1, 1), train_true[:] - fixed_sim[:train_true.shape[0]])\n",
    "    prediction = fixed_sim[train_true.shape[0]:] + base.predict(test_epoch.reshape(-1, 1))\n",
    "            \n",
    "    result[[\"x\", \"y\", \"z\", \"Vx\", \"Vy\", \"Vz\"]] = prediction\n",
    "\n",
    "    return result"
   ]
  },
  {
   "cell_type": "code",
   "execution_count": 5,
   "metadata": {},
   "outputs": [],
   "source": [
    "sats_to_predict = set(test_data[\"sat_id\"].unique())"
   ]
  },
  {
   "cell_type": "code",
   "execution_count": 6,
   "metadata": {},
   "outputs": [
    {
     "data": {
      "application/vnd.jupyter.widget-view+json": {
       "model_id": "ee8d5d82e288443db56e270465c7ed04",
       "version_major": 2,
       "version_minor": 0
      },
      "text/plain": [
       "HBox(children=(FloatProgress(value=0.0, max=300.0), HTML(value='')))"
      ]
     },
     "metadata": {},
     "output_type": "display_data"
    },
    {
     "name": "stdout",
     "output_type": "stream",
     "text": [
      "\n"
     ]
    }
   ],
   "source": [
    "results = []\n",
    "\n",
    "for sat_id in tqdm(sats_to_predict):\n",
    "    results.append(predict_one(train_data, test_data, sat_id))\n",
    "    \n",
    "results = pd.concat(results)"
   ]
  },
  {
   "cell_type": "code",
   "execution_count": 7,
   "metadata": {},
   "outputs": [],
   "source": [
    "results = results.sort_values(\"id\")"
   ]
  },
  {
   "cell_type": "code",
   "execution_count": 8,
   "metadata": {},
   "outputs": [],
   "source": [
    "results.to_csv(\"submission.csv\", index=False)"
   ]
  },
  {
   "cell_type": "code",
   "execution_count": null,
   "metadata": {},
   "outputs": [],
   "source": []
  }
 ],
 "metadata": {
  "kernelspec": {
   "display_name": "Python 3",
   "language": "python",
   "name": "python3"
  },
  "language_info": {
   "codemirror_mode": {
    "name": "ipython",
    "version": 3
   },
   "file_extension": ".py",
   "mimetype": "text/x-python",
   "name": "python",
   "nbconvert_exporter": "python",
   "pygments_lexer": "ipython3",
   "version": "3.7.5"
  }
 },
 "nbformat": 4,
 "nbformat_minor": 4
}
