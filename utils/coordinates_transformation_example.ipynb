{
 "cells": [
  {
   "cell_type": "code",
   "execution_count": 1,
   "metadata": {},
   "outputs": [],
   "source": [
    "import numpy as np\n",
    "from coosys import cartesian_to_kepler, kepler_to_cartesian, cartesian_to_quaternion, quaternion_to_cartesian\n",
    "eps = 10**(-10)"
   ]
  },
  {
   "cell_type": "markdown",
   "metadata": {},
   "source": [
    "Произвольная орбита."
   ]
  },
  {
   "cell_type": "code",
   "execution_count": 2,
   "metadata": {},
   "outputs": [],
   "source": [
    "cartesian = np.array([0, 2**0.5, 2**0.5, -0.5, 0., 0.], dtype=\"float64\")\n",
    "kepler = np.array([4. / 3., 0.5, np.pi / 4., 0., 1.5 * np.pi, np.pi], dtype=\"float64\")"
   ]
  },
  {
   "cell_type": "code",
   "execution_count": 3,
   "metadata": {},
   "outputs": [],
   "source": [
    "assert np.sum(np.abs(kepler - cartesian_to_kepler(cartesian, 1))) < eps\n",
    "assert np.sum(np.abs(cartesian - kepler_to_cartesian(kepler, 1))) < eps\n",
    "assert np.sum(np.abs(cartesian - quaternion_to_cartesian(cartesian_to_quaternion(cartesian, 1), 1))) < eps"
   ]
  },
  {
   "cell_type": "markdown",
   "metadata": {},
   "source": [
    "Орбита в Oxy."
   ]
  },
  {
   "cell_type": "code",
   "execution_count": 4,
   "metadata": {},
   "outputs": [],
   "source": [
    "cartesian = np.array([0, 2, 0, -0.5, 0., 0.], dtype=\"float64\")\n",
    "kepler = np.array([4. / 3., 0.5, 0., 0., 1.5 * np.pi, np.pi], dtype=\"float64\")"
   ]
  },
  {
   "cell_type": "code",
   "execution_count": 5,
   "metadata": {},
   "outputs": [],
   "source": [
    "assert np.sum(np.abs(kepler - cartesian_to_kepler(cartesian, 1))) < eps\n",
    "assert np.sum(np.abs(cartesian - kepler_to_cartesian(kepler, 1))) < eps\n",
    "assert np.sum(np.abs(cartesian - quaternion_to_cartesian(cartesian_to_quaternion(cartesian, 1), 1))) < eps"
   ]
  },
  {
   "cell_type": "markdown",
   "metadata": {},
   "source": [
    "Круговая орбита."
   ]
  },
  {
   "cell_type": "code",
   "execution_count": 6,
   "metadata": {},
   "outputs": [],
   "source": [
    "cartesian = np.array([0, 2**(-0.5), 2**(-0.5), -1, 0., 0.], dtype=\"float64\")\n",
    "kepler = np.array([1., 0, np.pi / 4, 0., 0., np.pi / 2], dtype=\"float64\")"
   ]
  },
  {
   "cell_type": "code",
   "execution_count": 7,
   "metadata": {},
   "outputs": [],
   "source": [
    "assert np.sum(np.abs(kepler - cartesian_to_kepler(cartesian, 1))) < eps\n",
    "assert np.sum(np.abs(cartesian - kepler_to_cartesian(kepler, 1))) < eps\n",
    "assert np.sum(np.abs(cartesian - quaternion_to_cartesian(cartesian_to_quaternion(cartesian, 1), 1))) < eps"
   ]
  },
  {
   "cell_type": "markdown",
   "metadata": {},
   "source": [
    "Вторая космическая скорость."
   ]
  },
  {
   "cell_type": "code",
   "execution_count": 8,
   "metadata": {},
   "outputs": [
    {
     "name": "stdout",
     "output_type": "stream",
     "text": [
      "Error: Body is escaping gravity\n",
      "Error: Body is escaping gravity\n"
     ]
    }
   ],
   "source": [
    "cartesian = np.array([0, 1., 0, -2**0.5, 0., 0.], dtype=\"float64\")\n",
    "\n",
    "try:\n",
    "    cartesian_to_kepler(cartesian, 1)\n",
    "except AssertionError as e:\n",
    "    print(\"Error: {}\".format(str(e)))\n",
    "    \n",
    "try:\n",
    "    cartesian_to_quaternion(cartesian, 1)\n",
    "except AssertionError as e:\n",
    "    print(\"Error: {}\".format(str(e)))"
   ]
  },
  {
   "cell_type": "code",
   "execution_count": null,
   "metadata": {},
   "outputs": [],
   "source": []
  }
 ],
 "metadata": {
  "kernelspec": {
   "display_name": "Python 3",
   "language": "python",
   "name": "python3"
  },
  "language_info": {
   "codemirror_mode": {
    "name": "ipython",
    "version": 3
   },
   "file_extension": ".py",
   "mimetype": "text/x-python",
   "name": "python",
   "nbconvert_exporter": "python",
   "pygments_lexer": "ipython3",
   "version": "3.7.5"
  }
 },
 "nbformat": 4,
 "nbformat_minor": 2
}
