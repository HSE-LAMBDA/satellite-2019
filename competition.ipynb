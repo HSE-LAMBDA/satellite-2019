{
 "cells": [
  {
   "cell_type": "code",
   "execution_count": 1,
   "metadata": {},
   "outputs": [
    {
     "name": "stderr",
     "output_type": "stream",
     "text": [
      "D:\\Anaconda3\\envs\\Standard\\lib\\site-packages\\tqdm\\std.py:654: FutureWarning: The Panel class is removed from pandas. Accessing it from the top-level namespace will also be removed in the next version\n",
      "  from pandas import Panel\n"
     ]
    }
   ],
   "source": [
    "from coosys import cartesian_to_kepler as ctk, cartesian_to_quaternion as ctq\n",
    "from coosys import kepler_to_cartesian as ktc, quaternion_to_cartesian as qtc\n",
    "import pandas as pd\n",
    "import numpy as np\n",
    "from sklearn.linear_model import LinearRegression as LR\n",
    "from sklearn.preprocessing import PolynomialFeatures as PF\n",
    "from tqdm.auto import tqdm\n",
    "tqdm.pandas()\n",
    "\n",
    "from matplotlib import pyplot as plt\n",
    "%matplotlib inline"
   ]
  },
  {
   "cell_type": "code",
   "execution_count": 2,
   "metadata": {},
   "outputs": [],
   "source": [
    "base = 1.3885 * 10**9\n",
    "\n",
    "train_data = pd.read_csv(\"IDAO 2020/train.csv\", encoding=\"utf8\")\n",
    "train_data[\"epoch\"] = pd.to_datetime(train_data[\"epoch\"]).apply(pd.Timestamp.timestamp) - base\n",
    "\n",
    "test_data = pd.read_csv(\"IDAO 2020/Track 1/test.csv\", encoding=\"utf8\")\n",
    "test_data[\"epoch\"] = pd.to_datetime(test_data[\"epoch\"]).apply(pd.Timestamp.timestamp) - base"
   ]
  },
  {
   "cell_type": "code",
   "execution_count": 3,
   "metadata": {},
   "outputs": [
    {
     "data": {
      "text/html": [
       "<div>\n",
       "<style scoped>\n",
       "    .dataframe tbody tr th:only-of-type {\n",
       "        vertical-align: middle;\n",
       "    }\n",
       "\n",
       "    .dataframe tbody tr th {\n",
       "        vertical-align: top;\n",
       "    }\n",
       "\n",
       "    .dataframe thead th {\n",
       "        text-align: right;\n",
       "    }\n",
       "</style>\n",
       "<table border=\"1\" class=\"dataframe\">\n",
       "  <thead>\n",
       "    <tr style=\"text-align: right;\">\n",
       "      <th></th>\n",
       "      <th>id</th>\n",
       "      <th>epoch</th>\n",
       "      <th>sat_id</th>\n",
       "      <th>x</th>\n",
       "      <th>y</th>\n",
       "      <th>z</th>\n",
       "      <th>Vx</th>\n",
       "      <th>Vy</th>\n",
       "      <th>Vz</th>\n",
       "      <th>x_sim</th>\n",
       "      <th>y_sim</th>\n",
       "      <th>z_sim</th>\n",
       "      <th>Vx_sim</th>\n",
       "      <th>Vy_sim</th>\n",
       "      <th>Vz_sim</th>\n",
       "    </tr>\n",
       "  </thead>\n",
       "  <tbody>\n",
       "    <tr>\n",
       "      <th>0</th>\n",
       "      <td>0</td>\n",
       "      <td>34400.000</td>\n",
       "      <td>0</td>\n",
       "      <td>-8855.823863</td>\n",
       "      <td>13117.780146</td>\n",
       "      <td>-20728.353233</td>\n",
       "      <td>-0.908303</td>\n",
       "      <td>-3.808436</td>\n",
       "      <td>-2.022083</td>\n",
       "      <td>-8843.131454</td>\n",
       "      <td>13138.221690</td>\n",
       "      <td>-20741.615306</td>\n",
       "      <td>-0.907527</td>\n",
       "      <td>-3.804930</td>\n",
       "      <td>-2.024133</td>\n",
       "    </tr>\n",
       "    <tr>\n",
       "      <th>1</th>\n",
       "      <td>1</td>\n",
       "      <td>37203.000</td>\n",
       "      <td>0</td>\n",
       "      <td>-10567.672384</td>\n",
       "      <td>1619.746066</td>\n",
       "      <td>-24451.813271</td>\n",
       "      <td>-0.302590</td>\n",
       "      <td>-4.272617</td>\n",
       "      <td>-0.612796</td>\n",
       "      <td>-10555.500066</td>\n",
       "      <td>1649.289367</td>\n",
       "      <td>-24473.089556</td>\n",
       "      <td>-0.303704</td>\n",
       "      <td>-4.269816</td>\n",
       "      <td>-0.616468</td>\n",
       "    </tr>\n",
       "    <tr>\n",
       "      <th>2</th>\n",
       "      <td>2</td>\n",
       "      <td>40006.001</td>\n",
       "      <td>0</td>\n",
       "      <td>-10578.684043</td>\n",
       "      <td>-10180.467460</td>\n",
       "      <td>-24238.280949</td>\n",
       "      <td>0.277435</td>\n",
       "      <td>-4.047522</td>\n",
       "      <td>0.723155</td>\n",
       "      <td>-10571.858472</td>\n",
       "      <td>-10145.939908</td>\n",
       "      <td>-24271.169776</td>\n",
       "      <td>0.274880</td>\n",
       "      <td>-4.046788</td>\n",
       "      <td>0.718768</td>\n",
       "    </tr>\n",
       "    <tr>\n",
       "      <th>3</th>\n",
       "      <td>3</td>\n",
       "      <td>42809.001</td>\n",
       "      <td>0</td>\n",
       "      <td>-9148.251857</td>\n",
       "      <td>-20651.437460</td>\n",
       "      <td>-20720.381279</td>\n",
       "      <td>0.715600</td>\n",
       "      <td>-3.373762</td>\n",
       "      <td>1.722115</td>\n",
       "      <td>-9149.620794</td>\n",
       "      <td>-20618.200201</td>\n",
       "      <td>-20765.019094</td>\n",
       "      <td>0.712437</td>\n",
       "      <td>-3.375202</td>\n",
       "      <td>1.718306</td>\n",
       "    </tr>\n",
       "    <tr>\n",
       "      <th>4</th>\n",
       "      <td>4</td>\n",
       "      <td>45612.002</td>\n",
       "      <td>0</td>\n",
       "      <td>-6719.092336</td>\n",
       "      <td>-28929.061629</td>\n",
       "      <td>-14938.907967</td>\n",
       "      <td>0.992507</td>\n",
       "      <td>-2.519732</td>\n",
       "      <td>2.344703</td>\n",
       "      <td>-6729.358857</td>\n",
       "      <td>-28902.271436</td>\n",
       "      <td>-14992.399986</td>\n",
       "      <td>0.989382</td>\n",
       "      <td>-2.522618</td>\n",
       "      <td>2.342237</td>\n",
       "    </tr>\n",
       "    <tr>\n",
       "      <th>...</th>\n",
       "      <td>...</td>\n",
       "      <td>...</td>\n",
       "      <td>...</td>\n",
       "      <td>...</td>\n",
       "      <td>...</td>\n",
       "      <td>...</td>\n",
       "      <td>...</td>\n",
       "      <td>...</td>\n",
       "      <td>...</td>\n",
       "      <td>...</td>\n",
       "      <td>...</td>\n",
       "      <td>...</td>\n",
       "      <td>...</td>\n",
       "      <td>...</td>\n",
       "      <td>...</td>\n",
       "    </tr>\n",
       "    <tr>\n",
       "      <th>649907</th>\n",
       "      <td>1234089</td>\n",
       "      <td>2705622.602</td>\n",
       "      <td>599</td>\n",
       "      <td>-21721.485878</td>\n",
       "      <td>-14048.557595</td>\n",
       "      <td>5277.807430</td>\n",
       "      <td>-1.351754</td>\n",
       "      <td>3.373418</td>\n",
       "      <td>0.004995</td>\n",
       "      <td>-20717.958996</td>\n",
       "      <td>-16245.240500</td>\n",
       "      <td>5250.939232</td>\n",
       "      <td>-1.653931</td>\n",
       "      <td>3.157321</td>\n",
       "      <td>0.079069</td>\n",
       "    </tr>\n",
       "    <tr>\n",
       "      <th>649908</th>\n",
       "      <td>1234090</td>\n",
       "      <td>2707113.240</td>\n",
       "      <td>599</td>\n",
       "      <td>-23176.890569</td>\n",
       "      <td>-8712.016936</td>\n",
       "      <td>5153.371350</td>\n",
       "      <td>-0.575955</td>\n",
       "      <td>3.764450</td>\n",
       "      <td>-0.175109</td>\n",
       "      <td>-22673.444496</td>\n",
       "      <td>-11192.339393</td>\n",
       "      <td>5243.608790</td>\n",
       "      <td>-0.945328</td>\n",
       "      <td>3.603371</td>\n",
       "      <td>-0.092202</td>\n",
       "    </tr>\n",
       "    <tr>\n",
       "      <th>649909</th>\n",
       "      <td>1234091</td>\n",
       "      <td>2708603.878</td>\n",
       "      <td>599</td>\n",
       "      <td>-23363.044794</td>\n",
       "      <td>-2906.071320</td>\n",
       "      <td>4747.247386</td>\n",
       "      <td>0.351381</td>\n",
       "      <td>3.992943</td>\n",
       "      <td>-0.372198</td>\n",
       "      <td>-23461.830699</td>\n",
       "      <td>-5570.167175</td>\n",
       "      <td>4966.813869</td>\n",
       "      <td>-0.087089</td>\n",
       "      <td>3.912550</td>\n",
       "      <td>-0.281989</td>\n",
       "    </tr>\n",
       "    <tr>\n",
       "      <th>649910</th>\n",
       "      <td>1234092</td>\n",
       "      <td>2710094.515</td>\n",
       "      <td>599</td>\n",
       "      <td>-22058.020262</td>\n",
       "      <td>3074.894039</td>\n",
       "      <td>4038.853542</td>\n",
       "      <td>1.421085</td>\n",
       "      <td>3.984793</td>\n",
       "      <td>-0.578849</td>\n",
       "      <td>-22858.679929</td>\n",
       "      <td>373.249102</td>\n",
       "      <td>4396.055679</td>\n",
       "      <td>0.920162</td>\n",
       "      <td>4.021955</td>\n",
       "      <td>-0.485364</td>\n",
       "    </tr>\n",
       "    <tr>\n",
       "      <th>649911</th>\n",
       "      <td>1234093</td>\n",
       "      <td>2711585.153</td>\n",
       "      <td>599</td>\n",
       "      <td>-19076.969715</td>\n",
       "      <td>8807.476785</td>\n",
       "      <td>3024.623998</td>\n",
       "      <td>2.587973</td>\n",
       "      <td>3.641717</td>\n",
       "      <td>-0.778817</td>\n",
       "      <td>-20656.328603</td>\n",
       "      <td>6277.934683</td>\n",
       "      <td>3518.642806</td>\n",
       "      <td>2.050990</td>\n",
       "      <td>3.844021</td>\n",
       "      <td>-0.690707</td>\n",
       "    </tr>\n",
       "  </tbody>\n",
       "</table>\n",
       "<p>649912 rows × 15 columns</p>\n",
       "</div>"
      ],
      "text/plain": [
       "             id        epoch  sat_id             x             y  \\\n",
       "0             0    34400.000       0  -8855.823863  13117.780146   \n",
       "1             1    37203.000       0 -10567.672384   1619.746066   \n",
       "2             2    40006.001       0 -10578.684043 -10180.467460   \n",
       "3             3    42809.001       0  -9148.251857 -20651.437460   \n",
       "4             4    45612.002       0  -6719.092336 -28929.061629   \n",
       "...         ...          ...     ...           ...           ...   \n",
       "649907  1234089  2705622.602     599 -21721.485878 -14048.557595   \n",
       "649908  1234090  2707113.240     599 -23176.890569  -8712.016936   \n",
       "649909  1234091  2708603.878     599 -23363.044794  -2906.071320   \n",
       "649910  1234092  2710094.515     599 -22058.020262   3074.894039   \n",
       "649911  1234093  2711585.153     599 -19076.969715   8807.476785   \n",
       "\n",
       "                   z        Vx        Vy        Vz         x_sim  \\\n",
       "0      -20728.353233 -0.908303 -3.808436 -2.022083  -8843.131454   \n",
       "1      -24451.813271 -0.302590 -4.272617 -0.612796 -10555.500066   \n",
       "2      -24238.280949  0.277435 -4.047522  0.723155 -10571.858472   \n",
       "3      -20720.381279  0.715600 -3.373762  1.722115  -9149.620794   \n",
       "4      -14938.907967  0.992507 -2.519732  2.344703  -6729.358857   \n",
       "...              ...       ...       ...       ...           ...   \n",
       "649907   5277.807430 -1.351754  3.373418  0.004995 -20717.958996   \n",
       "649908   5153.371350 -0.575955  3.764450 -0.175109 -22673.444496   \n",
       "649909   4747.247386  0.351381  3.992943 -0.372198 -23461.830699   \n",
       "649910   4038.853542  1.421085  3.984793 -0.578849 -22858.679929   \n",
       "649911   3024.623998  2.587973  3.641717 -0.778817 -20656.328603   \n",
       "\n",
       "               y_sim         z_sim    Vx_sim    Vy_sim    Vz_sim  \n",
       "0       13138.221690 -20741.615306 -0.907527 -3.804930 -2.024133  \n",
       "1        1649.289367 -24473.089556 -0.303704 -4.269816 -0.616468  \n",
       "2      -10145.939908 -24271.169776  0.274880 -4.046788  0.718768  \n",
       "3      -20618.200201 -20765.019094  0.712437 -3.375202  1.718306  \n",
       "4      -28902.271436 -14992.399986  0.989382 -2.522618  2.342237  \n",
       "...              ...           ...       ...       ...       ...  \n",
       "649907 -16245.240500   5250.939232 -1.653931  3.157321  0.079069  \n",
       "649908 -11192.339393   5243.608790 -0.945328  3.603371 -0.092202  \n",
       "649909  -5570.167175   4966.813869 -0.087089  3.912550 -0.281989  \n",
       "649910    373.249102   4396.055679  0.920162  4.021955 -0.485364  \n",
       "649911   6277.934683   3518.642806  2.050990  3.844021 -0.690707  \n",
       "\n",
       "[649912 rows x 15 columns]"
      ]
     },
     "execution_count": 3,
     "metadata": {},
     "output_type": "execute_result"
    }
   ],
   "source": [
    "train_data"
   ]
  },
  {
   "cell_type": "code",
   "execution_count": 4,
   "metadata": {},
   "outputs": [],
   "source": [
    "gamma_km = 398603\n",
    "\n",
    "def transform_row(row, func):\n",
    "    return func(row.values)\n",
    "\n",
    "def transform_dataset(data, func=lambda data: ctk(data, gamma_km), \n",
    "                      columns_from=(\"x\", \"y\", \"z\", \"Vx\", \"Vy\", \"Vz\"), \n",
    "                      columns_to=(\"a\", \"e\", \"inclination\", \"longitude\", \"argument\", \"anomaly\")):\n",
    "    new_data = data.loc[:, list(columns_from)].progress_apply(transform_row, axis=1, result_type=\"expand\", args=(func, ))\n",
    "    new_data.columns = columns_to\n",
    "    return data.drop(list(columns_from), axis=1).join(new_data)"
   ]
  },
  {
   "cell_type": "code",
   "execution_count": 5,
   "metadata": {},
   "outputs": [
    {
     "data": {
      "application/vnd.jupyter.widget-view+json": {
       "model_id": "a9e131d0e88d43d69ec38b13fda198e6",
       "version_major": 2,
       "version_minor": 0
      },
      "text/plain": [
       "HBox(children=(FloatProgress(value=0.0, max=649912.0), HTML(value='')))"
      ]
     },
     "metadata": {},
     "output_type": "display_data"
    },
    {
     "name": "stdout",
     "output_type": "stream",
     "text": [
      "\n"
     ]
    },
    {
     "data": {
      "application/vnd.jupyter.widget-view+json": {
       "model_id": "f30daddeeec1448d9d1403e07e580ddc",
       "version_major": 2,
       "version_minor": 0
      },
      "text/plain": [
       "HBox(children=(FloatProgress(value=0.0, max=649912.0), HTML(value='')))"
      ]
     },
     "metadata": {},
     "output_type": "display_data"
    },
    {
     "name": "stdout",
     "output_type": "stream",
     "text": [
      "\n"
     ]
    }
   ],
   "source": [
    "train_quaternion = transform_dataset(train_data, func=lambda data: ctq(data, gamma_km),\n",
    "                                     columns_from=(\"x\", \"y\", \"z\", \"Vx\", \"Vy\", \"Vz\"),\n",
    "                                     columns_to=((\"a\", \"e\", \"anomaly\", \"q1\", \"q2\", \"q3\", \"q4\")))\n",
    "train_quaternion = transform_dataset(train_quaternion, func=lambda data: ctq(data, gamma_km), \n",
    "                                     columns_from=(\"x_sim\", \"y_sim\", \"z_sim\", \"Vx_sim\", \"Vy_sim\", \"Vz_sim\"),\n",
    "                                     columns_to=(\"a_sim\", \"e_sim\", \"anomaly_sim\", \"q1_sim\", \"q2_sim\", \"q3_sim\", \"q4_sim\"))"
   ]
  },
  {
   "cell_type": "code",
   "execution_count": 6,
   "metadata": {},
   "outputs": [],
   "source": [
    "def phase_regression(phases):\n",
    "    periods = 0\n",
    "    new_phases = phases.copy()\n",
    "    for i in range(1, phases.size):\n",
    "        if phases[i] < phases[i - 1]:\n",
    "            periods += 1\n",
    "        new_phases[i] += 2 * np.pi * periods\n",
    "    return new_phases\n",
    "\n",
    "def phase_degression(phases):\n",
    "    new_phases = np.zeros_like(phases)\n",
    "    for i in range(phases.size):\n",
    "        new_phases[i] = phases[i] - 2 * np.pi * np.trunc(phases[i] / 2 / np.pi) \n",
    "    return new_phases"
   ]
  },
  {
   "cell_type": "code",
   "execution_count": 7,
   "metadata": {},
   "outputs": [],
   "source": [
    "sats_to_predict = set(test_data[\"sat_id\"].unique())"
   ]
  },
  {
   "cell_type": "code",
   "execution_count": 8,
   "metadata": {},
   "outputs": [
    {
     "data": {
      "application/vnd.jupyter.widget-view+json": {
       "model_id": "ea1e8e6c94d048ee86deee6acf57c660",
       "version_major": 2,
       "version_minor": 0
      },
      "text/plain": [
       "HBox(children=(FloatProgress(value=0.0, max=284071.0), HTML(value='')))"
      ]
     },
     "metadata": {},
     "output_type": "display_data"
    },
    {
     "name": "stdout",
     "output_type": "stream",
     "text": [
      "\n"
     ]
    }
   ],
   "source": [
    "test_quaternion = transform_dataset(test_data, func=lambda data: ctq(data, gamma_km), \n",
    "                                    columns_from=(\"x_sim\", \"y_sim\", \"z_sim\", \"Vx_sim\", \"Vy_sim\", \"Vz_sim\"),\n",
    "                                    columns_to=(\"a_sim\", \"e_sim\", \"anomaly_sim\", \"q1_sim\", \"q2_sim\", \"q3_sim\", \"q4_sim\"))"
   ]
  },
  {
   "cell_type": "code",
   "execution_count": 9,
   "metadata": {},
   "outputs": [],
   "source": [
    "def predict_one(train_quaternion, test_quaternion, sat_id, degree=1):\n",
    "    train_sat = train_quaternion[train_quaternion.sat_id == sat_id]\n",
    "    test_sat = test_quaternion[test_quaternion.sat_id == sat_id]\n",
    "    result = pd.DataFrame(columns=[\"id\", \"a\", \"e\", \"anomaly\", \"q1\", \"q2\", \"q3\", \"q4\"])\n",
    "    result[\"id\"] = test_sat[\"id\"]\n",
    "    train_t = train_sat[\"epoch\"].to_numpy().reshape(-1, 1)\n",
    "    train_features = PF(degree, include_bias=False).fit_transform(train_t)\n",
    "    test_t = test_sat[\"epoch\"].to_numpy().reshape(-1, 1)\n",
    "    test_features = PF(degree, include_bias=False).fit_transform(test_t)\n",
    "    \n",
    "    for coordinate in [\"a\", \"e\", \"q1\", \"q2\", \"q3\", \"q4\"]:\n",
    "        train_diff = train_sat[coordinate] - train_sat[coordinate + \"_sim\"]\n",
    "        model = LR().fit(train_features, train_diff)\n",
    "        result[coordinate] = test_sat[coordinate + \"_sim\"] + model.predict(test_features)\n",
    "        \n",
    "    train_diff = phase_regression(train_sat[\"anomaly\"].to_numpy()) - phase_regression(train_sat[\"anomaly_sim\"].to_numpy())\n",
    "    model = LR().fit(train_features, train_diff)\n",
    "    result[\"anomaly\"] = phase_degression(test_sat[\"anomaly_sim\"].to_numpy() + model.predict(test_features))\n",
    "    \n",
    "    if np.any(result[\"e\"].to_numpy() >= 1.) or np.any(result[\"e\"].to_numpy() < 0.):\n",
    "        result[\"e\"] = test_sat[\"e_sim\"]\n",
    "\n",
    "    return result"
   ]
  },
  {
   "cell_type": "code",
   "execution_count": 10,
   "metadata": {},
   "outputs": [
    {
     "data": {
      "application/vnd.jupyter.widget-view+json": {
       "model_id": "b63b56815e314b27a968ec63ac7d998f",
       "version_major": 2,
       "version_minor": 0
      },
      "text/plain": [
       "HBox(children=(FloatProgress(value=0.0, max=300.0), HTML(value='')))"
      ]
     },
     "metadata": {},
     "output_type": "display_data"
    },
    {
     "name": "stdout",
     "output_type": "stream",
     "text": [
      "\n"
     ]
    }
   ],
   "source": [
    "results = []\n",
    "\n",
    "for sat_id in tqdm(sats_to_predict):\n",
    "    results.append(predict_one(train_quaternion, test_quaternion, sat_id))\n",
    "    \n",
    "result_quaternion = pd.concat(results)"
   ]
  },
  {
   "cell_type": "code",
   "execution_count": 11,
   "metadata": {},
   "outputs": [
    {
     "data": {
      "application/vnd.jupyter.widget-view+json": {
       "model_id": "b1c23bfccf1242cd964aff7c9a44af5e",
       "version_major": 2,
       "version_minor": 0
      },
      "text/plain": [
       "HBox(children=(FloatProgress(value=0.0, max=284071.0), HTML(value='')))"
      ]
     },
     "metadata": {},
     "output_type": "display_data"
    },
    {
     "name": "stdout",
     "output_type": "stream",
     "text": [
      "\n"
     ]
    }
   ],
   "source": [
    "result_cartesian = transform_dataset(result_quaternion, func=lambda data: qtc(data, gamma_km), \n",
    "                                     columns_from=(\"a\", \"e\", \"anomaly\", \"q1\", \"q2\", \"q3\", \"q4\"),\n",
    "                                     columns_to=(\"x\", \"y\", \"z\", \"Vx\", \"Vy\", \"Vz\"))"
   ]
  },
  {
   "cell_type": "code",
   "execution_count": 12,
   "metadata": {},
   "outputs": [],
   "source": [
    "result_cartesian.to_csv(\"submission.csv\", index=False)"
   ]
  },
  {
   "cell_type": "code",
   "execution_count": null,
   "metadata": {},
   "outputs": [],
   "source": []
  }
 ],
 "metadata": {
  "kernelspec": {
   "display_name": "Python 3",
   "language": "python",
   "name": "python3"
  },
  "language_info": {
   "codemirror_mode": {
    "name": "ipython",
    "version": 3
   },
   "file_extension": ".py",
   "mimetype": "text/x-python",
   "name": "python",
   "nbconvert_exporter": "python",
   "pygments_lexer": "ipython3",
   "version": "3.7.5"
  }
 },
 "nbformat": 4,
 "nbformat_minor": 2
}
